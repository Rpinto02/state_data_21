{
 "cells": [
  {
   "cell_type": "markdown",
   "id": "c85946b3",
   "metadata": {},
   "source": [
    "## Introdução"
   ]
  },
  {
   "cell_type": "markdown",
   "id": "d6a71699",
   "metadata": {},
   "source": [
    "O mercado de dados é formado por profissionais que transitaram de carreira, não só porque os diferentes cargos que existem hoje em dia são recentes e em constante mutação como também não existem graduações específicas para esses cargos.\n",
    "\n",
    "No entanto, dentro dessa transição existe um grande divisor de águas, quem já trabalhava no setor de tecnologia (TI), que é o setor onde os cargos de dados se inserem, e os demais.\n",
    "\n",
    "Posto isto, se levanta a seguinte pergunta:\n",
    "\n",
    "* É mais difícil migrar de área para quem não se formou em TI?\n",
    "\n",
    "E consequentemente:\n",
    "\n",
    "* Que diferenças existem entre esses dois grupos? (TI e restantes formações)"
   ]
  },
  {
   "cell_type": "markdown",
   "id": "91811ec9",
   "metadata": {},
   "source": [
    "## Objetivo"
   ]
  },
  {
   "cell_type": "markdown",
   "id": "d1834800",
   "metadata": {},
   "source": [
    "Assim sendo, esta análise irá tentar responder a essas perguntas."
   ]
  },
  {
   "cell_type": "markdown",
   "id": "3cdf34e8",
   "metadata": {},
   "source": [
    "### Análise preliminar"
   ]
  },
  {
   "cell_type": "markdown",
   "id": "c5d1fac2",
   "metadata": {},
   "source": [
    "Importando as bibliotecas e o dataset."
   ]
  },
  {
   "cell_type": "code",
   "execution_count": 1,
   "id": "ac7e0e31",
   "metadata": {},
   "outputs": [
    {
     "ename": "FileNotFoundError",
     "evalue": "[Errno 2] No such file or directory: '/home/oem/repos/state_data_2021/data/State of Data 2021 - Dataset - Pgina1.csv'",
     "output_type": "error",
     "traceback": [
      "\u001b[0;31m---------------------------------------------------------------------------\u001b[0m",
      "\u001b[0;31mFileNotFoundError\u001b[0m                         Traceback (most recent call last)",
      "Input \u001b[0;32mIn [1]\u001b[0m, in \u001b[0;36m<cell line: 14>\u001b[0;34m()\u001b[0m\n\u001b[1;32m      9\u001b[0m warnings\u001b[38;5;241m.\u001b[39mfilterwarnings(\u001b[38;5;124m'\u001b[39m\u001b[38;5;124mignore\u001b[39m\u001b[38;5;124m'\u001b[39m)\n\u001b[1;32m     12\u001b[0m HOME \u001b[38;5;241m=\u001b[39m get_ipython()\u001b[38;5;241m.\u001b[39mrun_line_magic(\u001b[38;5;124m'\u001b[39m\u001b[38;5;124menv\u001b[39m\u001b[38;5;124m'\u001b[39m, \u001b[38;5;124m'\u001b[39m\u001b[38;5;124mHOME\u001b[39m\u001b[38;5;124m'\u001b[39m)\n\u001b[0;32m---> 14\u001b[0m dados \u001b[38;5;241m=\u001b[39m \u001b[43mpd\u001b[49m\u001b[38;5;241;43m.\u001b[39;49m\u001b[43mread_csv\u001b[49m\u001b[43m(\u001b[49m\u001b[38;5;124;43mf\u001b[39;49m\u001b[38;5;124;43m'\u001b[39;49m\u001b[38;5;132;43;01m{\u001b[39;49;00m\u001b[43mHOME\u001b[49m\u001b[38;5;132;43;01m}\u001b[39;49;00m\u001b[38;5;124;43m/repos/state_data_2021/data/State of Data 2021 - Dataset - Pgina1.csv\u001b[39;49m\u001b[38;5;124;43m'\u001b[39;49m\u001b[43m)\u001b[49m\n",
      "File \u001b[0;32m~/.local/lib/python3.8/site-packages/pandas/util/_decorators.py:311\u001b[0m, in \u001b[0;36mdeprecate_nonkeyword_arguments.<locals>.decorate.<locals>.wrapper\u001b[0;34m(*args, **kwargs)\u001b[0m\n\u001b[1;32m    305\u001b[0m \u001b[38;5;28;01mif\u001b[39;00m \u001b[38;5;28mlen\u001b[39m(args) \u001b[38;5;241m>\u001b[39m num_allow_args:\n\u001b[1;32m    306\u001b[0m     warnings\u001b[38;5;241m.\u001b[39mwarn(\n\u001b[1;32m    307\u001b[0m         msg\u001b[38;5;241m.\u001b[39mformat(arguments\u001b[38;5;241m=\u001b[39marguments),\n\u001b[1;32m    308\u001b[0m         \u001b[38;5;167;01mFutureWarning\u001b[39;00m,\n\u001b[1;32m    309\u001b[0m         stacklevel\u001b[38;5;241m=\u001b[39mstacklevel,\n\u001b[1;32m    310\u001b[0m     )\n\u001b[0;32m--> 311\u001b[0m \u001b[38;5;28;01mreturn\u001b[39;00m \u001b[43mfunc\u001b[49m\u001b[43m(\u001b[49m\u001b[38;5;241;43m*\u001b[39;49m\u001b[43margs\u001b[49m\u001b[43m,\u001b[49m\u001b[43m \u001b[49m\u001b[38;5;241;43m*\u001b[39;49m\u001b[38;5;241;43m*\u001b[39;49m\u001b[43mkwargs\u001b[49m\u001b[43m)\u001b[49m\n",
      "File \u001b[0;32m~/.local/lib/python3.8/site-packages/pandas/io/parsers/readers.py:680\u001b[0m, in \u001b[0;36mread_csv\u001b[0;34m(filepath_or_buffer, sep, delimiter, header, names, index_col, usecols, squeeze, prefix, mangle_dupe_cols, dtype, engine, converters, true_values, false_values, skipinitialspace, skiprows, skipfooter, nrows, na_values, keep_default_na, na_filter, verbose, skip_blank_lines, parse_dates, infer_datetime_format, keep_date_col, date_parser, dayfirst, cache_dates, iterator, chunksize, compression, thousands, decimal, lineterminator, quotechar, quoting, doublequote, escapechar, comment, encoding, encoding_errors, dialect, error_bad_lines, warn_bad_lines, on_bad_lines, delim_whitespace, low_memory, memory_map, float_precision, storage_options)\u001b[0m\n\u001b[1;32m    665\u001b[0m kwds_defaults \u001b[38;5;241m=\u001b[39m _refine_defaults_read(\n\u001b[1;32m    666\u001b[0m     dialect,\n\u001b[1;32m    667\u001b[0m     delimiter,\n\u001b[0;32m   (...)\u001b[0m\n\u001b[1;32m    676\u001b[0m     defaults\u001b[38;5;241m=\u001b[39m{\u001b[38;5;124m\"\u001b[39m\u001b[38;5;124mdelimiter\u001b[39m\u001b[38;5;124m\"\u001b[39m: \u001b[38;5;124m\"\u001b[39m\u001b[38;5;124m,\u001b[39m\u001b[38;5;124m\"\u001b[39m},\n\u001b[1;32m    677\u001b[0m )\n\u001b[1;32m    678\u001b[0m kwds\u001b[38;5;241m.\u001b[39mupdate(kwds_defaults)\n\u001b[0;32m--> 680\u001b[0m \u001b[38;5;28;01mreturn\u001b[39;00m \u001b[43m_read\u001b[49m\u001b[43m(\u001b[49m\u001b[43mfilepath_or_buffer\u001b[49m\u001b[43m,\u001b[49m\u001b[43m \u001b[49m\u001b[43mkwds\u001b[49m\u001b[43m)\u001b[49m\n",
      "File \u001b[0;32m~/.local/lib/python3.8/site-packages/pandas/io/parsers/readers.py:575\u001b[0m, in \u001b[0;36m_read\u001b[0;34m(filepath_or_buffer, kwds)\u001b[0m\n\u001b[1;32m    572\u001b[0m _validate_names(kwds\u001b[38;5;241m.\u001b[39mget(\u001b[38;5;124m\"\u001b[39m\u001b[38;5;124mnames\u001b[39m\u001b[38;5;124m\"\u001b[39m, \u001b[38;5;28;01mNone\u001b[39;00m))\n\u001b[1;32m    574\u001b[0m \u001b[38;5;66;03m# Create the parser.\u001b[39;00m\n\u001b[0;32m--> 575\u001b[0m parser \u001b[38;5;241m=\u001b[39m \u001b[43mTextFileReader\u001b[49m\u001b[43m(\u001b[49m\u001b[43mfilepath_or_buffer\u001b[49m\u001b[43m,\u001b[49m\u001b[43m \u001b[49m\u001b[38;5;241;43m*\u001b[39;49m\u001b[38;5;241;43m*\u001b[39;49m\u001b[43mkwds\u001b[49m\u001b[43m)\u001b[49m\n\u001b[1;32m    577\u001b[0m \u001b[38;5;28;01mif\u001b[39;00m chunksize \u001b[38;5;129;01mor\u001b[39;00m iterator:\n\u001b[1;32m    578\u001b[0m     \u001b[38;5;28;01mreturn\u001b[39;00m parser\n",
      "File \u001b[0;32m~/.local/lib/python3.8/site-packages/pandas/io/parsers/readers.py:933\u001b[0m, in \u001b[0;36mTextFileReader.__init__\u001b[0;34m(self, f, engine, **kwds)\u001b[0m\n\u001b[1;32m    930\u001b[0m     \u001b[38;5;28mself\u001b[39m\u001b[38;5;241m.\u001b[39moptions[\u001b[38;5;124m\"\u001b[39m\u001b[38;5;124mhas_index_names\u001b[39m\u001b[38;5;124m\"\u001b[39m] \u001b[38;5;241m=\u001b[39m kwds[\u001b[38;5;124m\"\u001b[39m\u001b[38;5;124mhas_index_names\u001b[39m\u001b[38;5;124m\"\u001b[39m]\n\u001b[1;32m    932\u001b[0m \u001b[38;5;28mself\u001b[39m\u001b[38;5;241m.\u001b[39mhandles: IOHandles \u001b[38;5;241m|\u001b[39m \u001b[38;5;28;01mNone\u001b[39;00m \u001b[38;5;241m=\u001b[39m \u001b[38;5;28;01mNone\u001b[39;00m\n\u001b[0;32m--> 933\u001b[0m \u001b[38;5;28mself\u001b[39m\u001b[38;5;241m.\u001b[39m_engine \u001b[38;5;241m=\u001b[39m \u001b[38;5;28;43mself\u001b[39;49m\u001b[38;5;241;43m.\u001b[39;49m\u001b[43m_make_engine\u001b[49m\u001b[43m(\u001b[49m\u001b[43mf\u001b[49m\u001b[43m,\u001b[49m\u001b[43m \u001b[49m\u001b[38;5;28;43mself\u001b[39;49m\u001b[38;5;241;43m.\u001b[39;49m\u001b[43mengine\u001b[49m\u001b[43m)\u001b[49m\n",
      "File \u001b[0;32m~/.local/lib/python3.8/site-packages/pandas/io/parsers/readers.py:1217\u001b[0m, in \u001b[0;36mTextFileReader._make_engine\u001b[0;34m(self, f, engine)\u001b[0m\n\u001b[1;32m   1213\u001b[0m     mode \u001b[38;5;241m=\u001b[39m \u001b[38;5;124m\"\u001b[39m\u001b[38;5;124mrb\u001b[39m\u001b[38;5;124m\"\u001b[39m\n\u001b[1;32m   1214\u001b[0m \u001b[38;5;66;03m# error: No overload variant of \"get_handle\" matches argument types\u001b[39;00m\n\u001b[1;32m   1215\u001b[0m \u001b[38;5;66;03m# \"Union[str, PathLike[str], ReadCsvBuffer[bytes], ReadCsvBuffer[str]]\"\u001b[39;00m\n\u001b[1;32m   1216\u001b[0m \u001b[38;5;66;03m# , \"str\", \"bool\", \"Any\", \"Any\", \"Any\", \"Any\", \"Any\"\u001b[39;00m\n\u001b[0;32m-> 1217\u001b[0m \u001b[38;5;28mself\u001b[39m\u001b[38;5;241m.\u001b[39mhandles \u001b[38;5;241m=\u001b[39m \u001b[43mget_handle\u001b[49m\u001b[43m(\u001b[49m\u001b[43m  \u001b[49m\u001b[38;5;66;43;03m# type: ignore[call-overload]\u001b[39;49;00m\n\u001b[1;32m   1218\u001b[0m \u001b[43m    \u001b[49m\u001b[43mf\u001b[49m\u001b[43m,\u001b[49m\n\u001b[1;32m   1219\u001b[0m \u001b[43m    \u001b[49m\u001b[43mmode\u001b[49m\u001b[43m,\u001b[49m\n\u001b[1;32m   1220\u001b[0m \u001b[43m    \u001b[49m\u001b[43mencoding\u001b[49m\u001b[38;5;241;43m=\u001b[39;49m\u001b[38;5;28;43mself\u001b[39;49m\u001b[38;5;241;43m.\u001b[39;49m\u001b[43moptions\u001b[49m\u001b[38;5;241;43m.\u001b[39;49m\u001b[43mget\u001b[49m\u001b[43m(\u001b[49m\u001b[38;5;124;43m\"\u001b[39;49m\u001b[38;5;124;43mencoding\u001b[39;49m\u001b[38;5;124;43m\"\u001b[39;49m\u001b[43m,\u001b[49m\u001b[43m \u001b[49m\u001b[38;5;28;43;01mNone\u001b[39;49;00m\u001b[43m)\u001b[49m\u001b[43m,\u001b[49m\n\u001b[1;32m   1221\u001b[0m \u001b[43m    \u001b[49m\u001b[43mcompression\u001b[49m\u001b[38;5;241;43m=\u001b[39;49m\u001b[38;5;28;43mself\u001b[39;49m\u001b[38;5;241;43m.\u001b[39;49m\u001b[43moptions\u001b[49m\u001b[38;5;241;43m.\u001b[39;49m\u001b[43mget\u001b[49m\u001b[43m(\u001b[49m\u001b[38;5;124;43m\"\u001b[39;49m\u001b[38;5;124;43mcompression\u001b[39;49m\u001b[38;5;124;43m\"\u001b[39;49m\u001b[43m,\u001b[49m\u001b[43m \u001b[49m\u001b[38;5;28;43;01mNone\u001b[39;49;00m\u001b[43m)\u001b[49m\u001b[43m,\u001b[49m\n\u001b[1;32m   1222\u001b[0m \u001b[43m    \u001b[49m\u001b[43mmemory_map\u001b[49m\u001b[38;5;241;43m=\u001b[39;49m\u001b[38;5;28;43mself\u001b[39;49m\u001b[38;5;241;43m.\u001b[39;49m\u001b[43moptions\u001b[49m\u001b[38;5;241;43m.\u001b[39;49m\u001b[43mget\u001b[49m\u001b[43m(\u001b[49m\u001b[38;5;124;43m\"\u001b[39;49m\u001b[38;5;124;43mmemory_map\u001b[39;49m\u001b[38;5;124;43m\"\u001b[39;49m\u001b[43m,\u001b[49m\u001b[43m \u001b[49m\u001b[38;5;28;43;01mFalse\u001b[39;49;00m\u001b[43m)\u001b[49m\u001b[43m,\u001b[49m\n\u001b[1;32m   1223\u001b[0m \u001b[43m    \u001b[49m\u001b[43mis_text\u001b[49m\u001b[38;5;241;43m=\u001b[39;49m\u001b[43mis_text\u001b[49m\u001b[43m,\u001b[49m\n\u001b[1;32m   1224\u001b[0m \u001b[43m    \u001b[49m\u001b[43merrors\u001b[49m\u001b[38;5;241;43m=\u001b[39;49m\u001b[38;5;28;43mself\u001b[39;49m\u001b[38;5;241;43m.\u001b[39;49m\u001b[43moptions\u001b[49m\u001b[38;5;241;43m.\u001b[39;49m\u001b[43mget\u001b[49m\u001b[43m(\u001b[49m\u001b[38;5;124;43m\"\u001b[39;49m\u001b[38;5;124;43mencoding_errors\u001b[39;49m\u001b[38;5;124;43m\"\u001b[39;49m\u001b[43m,\u001b[49m\u001b[43m \u001b[49m\u001b[38;5;124;43m\"\u001b[39;49m\u001b[38;5;124;43mstrict\u001b[39;49m\u001b[38;5;124;43m\"\u001b[39;49m\u001b[43m)\u001b[49m\u001b[43m,\u001b[49m\n\u001b[1;32m   1225\u001b[0m \u001b[43m    \u001b[49m\u001b[43mstorage_options\u001b[49m\u001b[38;5;241;43m=\u001b[39;49m\u001b[38;5;28;43mself\u001b[39;49m\u001b[38;5;241;43m.\u001b[39;49m\u001b[43moptions\u001b[49m\u001b[38;5;241;43m.\u001b[39;49m\u001b[43mget\u001b[49m\u001b[43m(\u001b[49m\u001b[38;5;124;43m\"\u001b[39;49m\u001b[38;5;124;43mstorage_options\u001b[39;49m\u001b[38;5;124;43m\"\u001b[39;49m\u001b[43m,\u001b[49m\u001b[43m \u001b[49m\u001b[38;5;28;43;01mNone\u001b[39;49;00m\u001b[43m)\u001b[49m\u001b[43m,\u001b[49m\n\u001b[1;32m   1226\u001b[0m \u001b[43m\u001b[49m\u001b[43m)\u001b[49m\n\u001b[1;32m   1227\u001b[0m \u001b[38;5;28;01massert\u001b[39;00m \u001b[38;5;28mself\u001b[39m\u001b[38;5;241m.\u001b[39mhandles \u001b[38;5;129;01mis\u001b[39;00m \u001b[38;5;129;01mnot\u001b[39;00m \u001b[38;5;28;01mNone\u001b[39;00m\n\u001b[1;32m   1228\u001b[0m f \u001b[38;5;241m=\u001b[39m \u001b[38;5;28mself\u001b[39m\u001b[38;5;241m.\u001b[39mhandles\u001b[38;5;241m.\u001b[39mhandle\n",
      "File \u001b[0;32m~/.local/lib/python3.8/site-packages/pandas/io/common.py:789\u001b[0m, in \u001b[0;36mget_handle\u001b[0;34m(path_or_buf, mode, encoding, compression, memory_map, is_text, errors, storage_options)\u001b[0m\n\u001b[1;32m    784\u001b[0m \u001b[38;5;28;01melif\u001b[39;00m \u001b[38;5;28misinstance\u001b[39m(handle, \u001b[38;5;28mstr\u001b[39m):\n\u001b[1;32m    785\u001b[0m     \u001b[38;5;66;03m# Check whether the filename is to be opened in binary mode.\u001b[39;00m\n\u001b[1;32m    786\u001b[0m     \u001b[38;5;66;03m# Binary mode does not support 'encoding' and 'newline'.\u001b[39;00m\n\u001b[1;32m    787\u001b[0m     \u001b[38;5;28;01mif\u001b[39;00m ioargs\u001b[38;5;241m.\u001b[39mencoding \u001b[38;5;129;01mand\u001b[39;00m \u001b[38;5;124m\"\u001b[39m\u001b[38;5;124mb\u001b[39m\u001b[38;5;124m\"\u001b[39m \u001b[38;5;129;01mnot\u001b[39;00m \u001b[38;5;129;01min\u001b[39;00m ioargs\u001b[38;5;241m.\u001b[39mmode:\n\u001b[1;32m    788\u001b[0m         \u001b[38;5;66;03m# Encoding\u001b[39;00m\n\u001b[0;32m--> 789\u001b[0m         handle \u001b[38;5;241m=\u001b[39m \u001b[38;5;28;43mopen\u001b[39;49m\u001b[43m(\u001b[49m\n\u001b[1;32m    790\u001b[0m \u001b[43m            \u001b[49m\u001b[43mhandle\u001b[49m\u001b[43m,\u001b[49m\n\u001b[1;32m    791\u001b[0m \u001b[43m            \u001b[49m\u001b[43mioargs\u001b[49m\u001b[38;5;241;43m.\u001b[39;49m\u001b[43mmode\u001b[49m\u001b[43m,\u001b[49m\n\u001b[1;32m    792\u001b[0m \u001b[43m            \u001b[49m\u001b[43mencoding\u001b[49m\u001b[38;5;241;43m=\u001b[39;49m\u001b[43mioargs\u001b[49m\u001b[38;5;241;43m.\u001b[39;49m\u001b[43mencoding\u001b[49m\u001b[43m,\u001b[49m\n\u001b[1;32m    793\u001b[0m \u001b[43m            \u001b[49m\u001b[43merrors\u001b[49m\u001b[38;5;241;43m=\u001b[39;49m\u001b[43merrors\u001b[49m\u001b[43m,\u001b[49m\n\u001b[1;32m    794\u001b[0m \u001b[43m            \u001b[49m\u001b[43mnewline\u001b[49m\u001b[38;5;241;43m=\u001b[39;49m\u001b[38;5;124;43m\"\u001b[39;49m\u001b[38;5;124;43m\"\u001b[39;49m\u001b[43m,\u001b[49m\n\u001b[1;32m    795\u001b[0m \u001b[43m        \u001b[49m\u001b[43m)\u001b[49m\n\u001b[1;32m    796\u001b[0m     \u001b[38;5;28;01melse\u001b[39;00m:\n\u001b[1;32m    797\u001b[0m         \u001b[38;5;66;03m# Binary mode\u001b[39;00m\n\u001b[1;32m    798\u001b[0m         handle \u001b[38;5;241m=\u001b[39m \u001b[38;5;28mopen\u001b[39m(handle, ioargs\u001b[38;5;241m.\u001b[39mmode)\n",
      "\u001b[0;31mFileNotFoundError\u001b[0m: [Errno 2] No such file or directory: '/home/oem/repos/state_data_2021/data/State of Data 2021 - Dataset - Pgina1.csv'"
     ]
    }
   ],
   "source": [
    "import numpy as np\n",
    "import pandas as pd\n",
    "import seaborn as sns\n",
    "import matplotlib.pyplot as plt\n",
    "import textwrap\n",
    "\n",
    "#o desenvolvimento foi feito com os avisos ativos, para não gerar poluição são desligados na versão final\n",
    "import warnings\n",
    "warnings.filterwarnings('ignore')\n",
    "\n",
    "\n",
    "HOME = %env HOME\n",
    "\n",
    "dados = pd.read_csv(f'{HOME}/repos/state_data_2021/data/State of Data 2021 - Dataset - Pgina1.csv')"
   ]
  },
  {
   "cell_type": "markdown",
   "id": "c2a7c701",
   "metadata": {},
   "source": [
    "Visão geral do dataset"
   ]
  },
  {
   "cell_type": "code",
   "execution_count": null,
   "id": "1097e321",
   "metadata": {},
   "outputs": [],
   "source": [
    "#mudando as configurações default para melhorar a visibilidade\n",
    "pd.set_option('display.max_columns', 500)\n",
    "pd.set_option('display.max_rows', 500)\n",
    "\n",
    "dados.head()"
   ]
  },
  {
   "cell_type": "markdown",
   "id": "dba5108d",
   "metadata": {},
   "source": [
    "Quantidade de colunas e respetivos tipos de variável"
   ]
  },
  {
   "cell_type": "code",
   "execution_count": null,
   "id": "49fafc6d",
   "metadata": {},
   "outputs": [],
   "source": [
    "dados.shape"
   ]
  },
  {
   "cell_type": "code",
   "execution_count": null,
   "id": "6dc013f4",
   "metadata": {},
   "outputs": [],
   "source": [
    "dados.info()"
   ]
  },
  {
   "cell_type": "markdown",
   "id": "c4e79d81",
   "metadata": {},
   "source": [
    "Colunas númericas"
   ]
  },
  {
   "cell_type": "code",
   "execution_count": null,
   "id": "75f94bd0",
   "metadata": {},
   "outputs": [],
   "source": [
    "dados.describe()"
   ]
  },
  {
   "cell_type": "markdown",
   "id": "f4070610",
   "metadata": {},
   "source": [
    "Colunas categóricas"
   ]
  },
  {
   "cell_type": "code",
   "execution_count": null,
   "id": "ae97e51f",
   "metadata": {},
   "outputs": [],
   "source": [
    "dados.describe(include=[object])"
   ]
  },
  {
   "cell_type": "markdown",
   "id": "e67a13ee",
   "metadata": {},
   "source": [
    "Preenchimento e variabilidade e tipos "
   ]
  },
  {
   "cell_type": "code",
   "execution_count": null,
   "id": "fa24a830",
   "metadata": {},
   "outputs": [],
   "source": [
    "consistency = pd.DataFrame({'columns' : dados.columns,\n",
    "                    'type': dados.dtypes,\n",
    "                    'missing' : dados.isna().sum(),\n",
    "                    'size' : dados.shape[0],\n",
    "                    'unique': dados.nunique()})\n",
    "consistency['percentage'] = round(consistency['missing'] / consistency['size'],2)\n",
    "consistency"
   ]
  },
  {
   "cell_type": "markdown",
   "id": "dc01c941",
   "metadata": {},
   "source": [
    "Acima a coluna ID que deveria ser única aparenta ter dados duplicados."
   ]
  },
  {
   "cell_type": "code",
   "execution_count": null,
   "id": "c9694241",
   "metadata": {},
   "outputs": [],
   "source": [
    "dados[\"('P0', 'id')\"].value_counts()"
   ]
  },
  {
   "cell_type": "markdown",
   "id": "643e18b2",
   "metadata": {},
   "source": [
    "Como se pode verificar acima alguns ids se repetem, vamos investigar se são linhas duplicadas para tratar antes de começar qualquer análise."
   ]
  },
  {
   "cell_type": "code",
   "execution_count": null,
   "id": "d0034c00",
   "metadata": {},
   "outputs": [],
   "source": [
    "dados[dados.duplicated(keep=False)]"
   ]
  },
  {
   "cell_type": "markdown",
   "id": "e0843eec",
   "metadata": {},
   "source": [
    "As linhas são de fato duplicadas então antes de qualquer análise iremos proceder à respetiva remoção."
   ]
  },
  {
   "cell_type": "code",
   "execution_count": null,
   "id": "6f142056",
   "metadata": {},
   "outputs": [],
   "source": [
    "dados.drop_duplicates().shape, dados.shape"
   ]
  },
  {
   "cell_type": "code",
   "execution_count": null,
   "id": "8aa12b1b",
   "metadata": {},
   "outputs": [],
   "source": [
    "dados.drop_duplicates(inplace=True)\n",
    "dados.shape"
   ]
  },
  {
   "cell_type": "code",
   "execution_count": null,
   "id": "8d584713",
   "metadata": {},
   "outputs": [],
   "source": [
    "consistency = pd.DataFrame({'columns' : dados.columns,\n",
    "                    'type': dados.dtypes,\n",
    "                    'missing' : dados.isna().sum(),\n",
    "                    'size' : dados.shape[0],\n",
    "                    'unique': dados.nunique()})\n",
    "consistency['percentage'] = round(consistency['missing'] / consistency['size'],2)\n",
    "consistency"
   ]
  },
  {
   "cell_type": "markdown",
   "id": "506ec84e",
   "metadata": {},
   "source": [
    "Agora que as entradas duplicadas foram removidas podemos prosseguir."
   ]
  },
  {
   "cell_type": "markdown",
   "id": "1d722782",
   "metadata": {},
   "source": [
    "## Análise"
   ]
  },
  {
   "cell_type": "markdown",
   "id": "0273aac5",
   "metadata": {},
   "source": [
    "Como esta análise deriva da área de formação de quem respondeu, o primeiro passo é olharmos como está esta distribuição. "
   ]
  },
  {
   "cell_type": "code",
   "execution_count": null,
   "id": "1e474ab8",
   "metadata": {},
   "outputs": [],
   "source": [
    "dados[\"('P1_i ', 'Área de Formação')\"].value_counts()"
   ]
  },
  {
   "cell_type": "code",
   "execution_count": null,
   "id": "6d0431aa",
   "metadata": {},
   "outputs": [],
   "source": [
    "dados[\"('P1_i ', 'Área de Formação')\"].value_counts(normalize=True)"
   ]
  },
  {
   "cell_type": "code",
   "execution_count": null,
   "id": "d097eeec",
   "metadata": {},
   "outputs": [],
   "source": [
    "colors= [\"#6d83da\"]\n",
    "sns.set_theme()\n",
    "sns.set_style(\"ticks\")\n",
    "#sns.set_palette(colors)\n",
    "\n",
    "P1_i =\"('P1_i ', 'Área de Formação')\"\n",
    "fig = plt.figure(figsize=(12, 10))\n",
    "ax = sns.barplot(data=dados, \n",
    "            x=dados[P1_i].value_counts(normalize=True).values*100, \n",
    "            y=dados[P1_i].value_counts(normalize=True).index,\n",
    "            palette = colors\n",
    "            )\n",
    "\n",
    "ax.set_title('Área de Formação [%]', fontdict={'fontsize': 20, 'fontweight': 'medium'})\n",
    "\n",
    "ax.set(xlabel=None)\n",
    "\n",
    "\n",
    "for c in ax.containers:\n",
    "    ax.bar_label(c, fmt=f'%.2f', label_type='edge')\n",
    "\n",
    "\n",
    "ax.set(xlabel=None,ylabel=None)\n",
    "ax.tick_params(labelbottom=False, bottom=False)\n",
    "\n",
    "ax.spines['left'].set_visible(False)\n",
    "ax.set(xticklabels=[])\n",
    "sns.despine(top=True, right=True, left=True, bottom=True)\n",
    "plt.show()"
   ]
  },
  {
   "cell_type": "code",
   "execution_count": null,
   "id": "be0c7401",
   "metadata": {},
   "outputs": [],
   "source": [
    "P1_g_b = \"('P1_g_b ', 'Regiao de origem')\"\n",
    "\n",
    "colors= [\"#6d83da\"]\n",
    "sns.set_theme()\n",
    "sns.set_style(\"ticks\")\n",
    "#sns.set_palette(colors)\n",
    "\n",
    "P1_i =\"('P1_i ', 'Área de Formação')\"\n",
    "fig = plt.figure(figsize=(12, 10))\n",
    "ax = sns.barplot(data=dados, \n",
    "            x=dados[P1_g_b].value_counts(normalize=True).values*100, \n",
    "            y=dados[P1_g_b].value_counts(normalize=True).index,\n",
    "            palette = colors\n",
    "            )\n",
    "\n",
    "ax.set_title('Região de Origem [%]', fontdict={'fontsize': 20, 'fontweight': 'medium'})\n",
    "\n",
    "ax.set(xlabel=None)\n",
    "\n",
    "\n",
    "for c in ax.containers:\n",
    "    ax.bar_label(c, fmt=f'%.2f', label_type='edge')\n",
    "\n",
    "\n",
    "ax.set(xlabel=None,ylabel=None)\n",
    "ax.tick_params(labelbottom=False, bottom=False)\n",
    "\n",
    "ax.spines['left'].set_visible(False)\n",
    "ax.set(xticklabels=[])\n",
    "sns.despine(top=True, right=True, left=True, bottom=True)\n",
    "plt.show()"
   ]
  },
  {
   "cell_type": "markdown",
   "id": "3e12848e",
   "metadata": {},
   "source": [
    "A formação em TI é de fato a predominante com 42% do total, seguida de outras engenharias com 23%.\n",
    "\n",
    "Relativamente à distribuição por região a única que tem menor representação que a sua população respetiva é a região Norte que mesmo sendo [mais populosa](https://www.luis.blog.br/populacao-do-brasil-estados-e-regioes-dados-do-ibge.html) que o Centro-oeste aparece por último."
   ]
  },
  {
   "cell_type": "markdown",
   "id": "86bc47be",
   "metadata": {},
   "source": [
    "Para avançar na análise foi feito um pré levantamento, de forma empírica, das perguntas que nos podem ajudara responder às questões levantadas.\n",
    "Se dividindo da seguinte forma:"
   ]
  },
  {
   "cell_type": "markdown",
   "id": "59af8016",
   "metadata": {},
   "source": [
    "Perguntas relevantes para o estudo"
   ]
  },
  {
   "cell_type": "markdown",
   "id": "86066a86",
   "metadata": {},
   "source": [
    "* ('P2_a ', 'Qual sua situação atual de trabalho?')\n",
    "* ('P2_i ', 'Quanto tempo de experiência na área de dados você tem?')\n",
    "* ('P2_j ', 'Quanto tempo de experiência na área de TI/Engenharia de Software você teve antes de começar a trabalhar na área de dados?')\n",
    "* ('P4_a ', 'Atuacao')\n",
    "* ('P4_d_n ', 'Não utilizo nenhuma linguagem')\n",
    "* ('P5_b ', 'Qual oportunidade você está buscando?')\n",
    "* ('P5_c ', 'Há quanto tempo você busca uma oportunidade na área de dados?')\n",
    "* ('P5_d ', 'Como tem sido a busca por um emprego na área de dados?') "
   ]
  },
  {
   "cell_type": "markdown",
   "id": "3517d2ba",
   "metadata": {},
   "source": [
    "Perguntas relevantes para segmentação"
   ]
  },
  {
   "cell_type": "markdown",
   "id": "00327612",
   "metadata": {},
   "source": [
    "* ('P1_a_a ', 'Faixa idade')\n",
    "* ('P1_b ', 'Genero')\n",
    "* ('P1_g_b ', 'Regiao de origem') \t\n",
    "* ('P2_f ', 'Cargo Atual') \t\n",
    "* ('P2_g ', 'Nivel') \t\n",
    "* ('P2_h ', 'Faixa salarial') \t"
   ]
  },
  {
   "cell_type": "markdown",
   "id": "7742ba21",
   "metadata": {},
   "source": [
    "Somente para não gerar código muito verboso, iremos gerar variáveis com os nomes das perguntas"
   ]
  },
  {
   "cell_type": "code",
   "execution_count": null,
   "id": "0ce1fc75",
   "metadata": {},
   "outputs": [],
   "source": [
    "P2_a = \"('P2_a ', 'Qual sua situação atual de trabalho?')\"\n",
    "P2_i = \"('P2_i ', 'Quanto tempo de experiência na área de dados você tem?')\"\n",
    "P2_j = \"('P2_j ', 'Quanto tempo de experiência na área de TI/Engenharia de Software você teve antes de começar a trabalhar na área de dados?')\"\n",
    "P4_a = \"('P4_a ', 'Atuacao')\"\n",
    "P4_d_n = \"('P4_d_n ', 'Não utilizo nenhuma linguagem')\"\n",
    "P5_b = \"('P5_b ', 'Qual oportunidade você está buscando?')\"\n",
    "P5_c = \"('P5_c ', 'Há quanto tempo você busca uma oportunidade na área de dados?')\"\n",
    "P5_d = \"('P5_d ', 'Como tem sido a busca por um emprego na área de dados?')\""
   ]
  },
  {
   "cell_type": "code",
   "execution_count": null,
   "id": "d1fa59d1",
   "metadata": {},
   "outputs": [],
   "source": [
    "P1_a_a = \"('P1_a_a ', 'Faixa idade')\"\n",
    "P1_b = \"('P1_b ', 'Genero')\"\n",
    "P1_g_b = \"('P1_g_b ', 'Regiao de origem')\"\n",
    "P2_f = \"('P2_f ', 'Cargo Atual')\"\n",
    "P2_g = \"('P2_g ', 'Nivel')\"\n",
    "P2_h = \"('P2_h ', 'Faixa salarial')\""
   ]
  },
  {
   "cell_type": "markdown",
   "id": "ada77024",
   "metadata": {},
   "source": [
    "Para efeitos de estudo iremos dividir entre Computação / Engenharia de Software / Sistemas de Informação/ TI e as restantes formações.\n",
    "Gerando datasets respetivos para cada um deles."
   ]
  },
  {
   "cell_type": "code",
   "execution_count": null,
   "id": "b2178744",
   "metadata": {},
   "outputs": [],
   "source": [
    "TI = dados.loc[dados.loc[:,\"('P1_i ', 'Área de Formação')\"] == 'Computação / Engenharia de Software / Sistemas de Informação/ TI']\n",
    "resto = dados.loc[dados.loc[:,\"('P1_i ', 'Área de Formação')\"] != 'Computação / Engenharia de Software / Sistemas de Informação/ TI']\n",
    "TI.shape, resto.shape"
   ]
  },
  {
   "cell_type": "code",
   "execution_count": null,
   "id": "0e4c1fef",
   "metadata": {},
   "outputs": [],
   "source": [
    "dados.shape[0] - resto.shape[0]"
   ]
  },
  {
   "cell_type": "markdown",
   "id": "9d9e46d1",
   "metadata": {},
   "source": [
    "Como os totais são diferentes para efeitos comparativos iremos reduzir as categorias às porcentagens dos totais.\n",
    "Sinalizando quando a volumetria dos respondentes for baixa."
   ]
  },
  {
   "cell_type": "markdown",
   "id": "1e597f3b",
   "metadata": {},
   "source": [
    "### Situação atual de trabalho "
   ]
  },
  {
   "cell_type": "markdown",
   "id": "131e29ee",
   "metadata": {},
   "source": [
    "Todas as perguntas serão abordadas da mesma forma:\n",
    "1. Listagem dos valores totais de cada grupo.\n",
    "2. Construção do gráfico com os percentuais das categorias em cada grupo.\n",
    "3. Análise do gráfico.\n",
    "4. Derivações provenientes da análise no ponto 3."
   ]
  },
  {
   "cell_type": "code",
   "execution_count": null,
   "id": "85129859",
   "metadata": {},
   "outputs": [],
   "source": [
    "#\"('P2_a ', 'Qual sua situação atual de trabalho?')\"\n",
    "TI[P2_a].value_counts()"
   ]
  },
  {
   "cell_type": "code",
   "execution_count": null,
   "id": "67f13468",
   "metadata": {},
   "outputs": [],
   "source": [
    "TI[P2_a].value_counts().sum()"
   ]
  },
  {
   "cell_type": "code",
   "execution_count": null,
   "id": "178563ce",
   "metadata": {},
   "outputs": [],
   "source": [
    "resto[P2_a].value_counts()"
   ]
  },
  {
   "cell_type": "code",
   "execution_count": null,
   "id": "f96f5c07",
   "metadata": {},
   "outputs": [],
   "source": [
    "resto[P2_a].value_counts().sum()"
   ]
  },
  {
   "cell_type": "markdown",
   "id": "92849498",
   "metadata": {},
   "source": [
    "Só para exemplificar como a ordenação das categorias foi realizada mantemos o código abaixo usado para ordenar as categorias. Nas demais perguntas este código será omitido."
   ]
  },
  {
   "cell_type": "code",
   "execution_count": null,
   "id": "684f7c4e",
   "metadata": {},
   "outputs": [],
   "source": [
    "resto[P2_a].value_counts().index"
   ]
  },
  {
   "cell_type": "code",
   "execution_count": null,
   "id": "7120b254",
   "metadata": {},
   "outputs": [],
   "source": [
    "#para manter as ordem das categorias nos gráficos em ambos datasets iremos criar uma variavél contendo a ordem desejada das mesmas.\n",
    "labels_P2_a = ['Somente Estudante (graduação)',\n",
    "               'Somente Estudante (pós-graduação)',\n",
    "               'Trabalho na área Acadêmica/Pesquisador',\n",
    "               'Estagiário',\n",
    "               'Servidor Público',\n",
    "    'Empregado (CLT)',\n",
    "      'Empreendedor ou Empregado (CNPJ)',\n",
    "               'Freelancer',\n",
    "     'Vivo no Brasil e trabalho remoto para empresa de fora do Brasil (PJ)',\n",
    "      'Vivo fora do Brasil e trabalho para empresa de fora do Brasil',\n",
    "               'Desempregado, buscando recolocação',\n",
    "               'Desempregado e não estou buscando recolocação',\n",
    "               'Prefiro não informar'\n",
    "]"
   ]
  },
  {
   "cell_type": "code",
   "execution_count": null,
   "id": "fd4c48f4",
   "metadata": {},
   "outputs": [],
   "source": [
    "fig, axes = plt.subplots(1, 2, sharex=True, figsize=(16,12))\n",
    "\n",
    "top = 1.15\n",
    "right = 1.1\n",
    "\n",
    "colors= [\"#6d83da\",\n",
    "\"#a6af3f\",\n",
    "\"#57398c\",\n",
    "\"#60a755\",\n",
    "\"#be6ec6\",\n",
    "\"#45c097\",\n",
    "\"#892863\",\n",
    "\"#cd8233\",\n",
    "\"#d56cad\",\n",
    "\"#9d833c\",\n",
    "\"#c24c6e\",\n",
    "\"#a04534\",\n",
    "\"#d3544b\"]\n",
    "\n",
    "sns.set_theme()\n",
    "sns.set_style(\"ticks\")\n",
    "sns.set_palette(colors)\n",
    "\n",
    "\n",
    "\n",
    "ax1 = sns.barplot(ax= axes[0],data=TI, x=TI[P2_a].value_counts(normalize=True).values*100,\n",
    "                  y=TI[P2_a].value_counts(normalize=True).index,\n",
    "                   order=labels_P2_a)\n",
    "\n",
    "ax1.set_xlim(0, 80)\n",
    "ax1.set(xlabel=None,ylabel=None)\n",
    "ax1.set_title(\"Formação em TI\",fontdict={'fontsize': 20})\n",
    "vals = ax1.get_xticks()\n",
    "ax1.set_xticklabels([str(int(val))+'%' for val in vals])\n",
    "\n",
    "\n",
    "\n",
    "ax2 = sns.barplot(ax= axes[1],data=resto, x=resto[P2_a].value_counts(normalize=True).values*100,\n",
    "                  y=resto[P2_a].value_counts(normalize=True).index,\n",
    "                   order=labels_P2_a)\n",
    "\n",
    "ax2.set_xlim(0, 80)\n",
    "ax2.set(xlabel=None, ylabel=None)\n",
    "ax2.set_title(\"Outras Áreas\",fontdict={'fontsize': 20})\n",
    "ax2.tick_params(labelleft=False, left=False)\n",
    "\n",
    "\n",
    "for c in ax1.containers:\n",
    "    ax1.bar_label(c, fmt=f'%.2f', label_type='edge')\n",
    "    \n",
    "for c in ax2.containers:\n",
    "    ax2.bar_label(c, fmt=f'%.2f', label_type='edge')   \n",
    "    \n",
    "    \n",
    "\n",
    "ax1.text(right, top, 'Situação atual de trabalho',\n",
    "         horizontalalignment='center',\n",
    "         verticalalignment='center',\n",
    "         transform=ax1.transAxes,\n",
    "         fontdict={'fontsize': 22})\n",
    "\n",
    "    \n",
    "sns.despine()\n",
    "ax2.spines['left'].set_visible(False)\n",
    "ax1.spines['left'].set_visible(False)\n",
    "plt.show()"
   ]
  },
  {
   "cell_type": "markdown",
   "id": "748630e9",
   "metadata": {},
   "source": [
    "Podemos ver no gráfico que existem 3 grandes grupos: \n",
    "* estudantes/pesquisadores,\n",
    "* trabalhadores por conta prórpria ou de outrém,\n",
    "* e desempregados.\n",
    "\n",
    "Aparenta existir uma diferença de distribuição destes grupos dentro de área de TI e nas demais formações. \n",
    "Vamos então agrupar para investigar essa diferença com mais detalhe, no entanto como a categoria 'Prefiro não informar' não nos dá nenhuma informação sobre o grupo a que pertence vamos excluir no agrupamento abaixo."
   ]
  },
  {
   "cell_type": "code",
   "execution_count": null,
   "id": "7c44af68",
   "metadata": {},
   "outputs": [],
   "source": [
    "studyingTI = TI[(TI[P2_a]=='Somente Estudante (graduação)') \n",
    "                | (TI[P2_a]== 'Somente Estudante (pós-graduação)') \n",
    "                | (TI[P2_a]== 'Trabalho na área Acadêmica/Pesquisador')\n",
    "               ].shape[0]/TI.shape[0]*100\n",
    "\n",
    "print(\"Estudantes TI: \"+str(round(studyingTI,2))+'%')"
   ]
  },
  {
   "cell_type": "code",
   "execution_count": null,
   "id": "9f8560e9",
   "metadata": {},
   "outputs": [],
   "source": [
    "studyingResto = resto[(resto[P2_a]=='Somente Estudante (graduação)') \n",
    "                      | (resto[P2_a]== 'Somente Estudante (pós-graduação)') \n",
    "                      | (resto[P2_a]== 'Trabalho na área Acadêmica/Pesquisador')\n",
    "                     ].shape[0]/resto.shape[0]*100\n",
    "\n",
    "print(\"Estudantes Resto: \"+str(round(studyingResto,2))+'%')"
   ]
  },
  {
   "cell_type": "code",
   "execution_count": null,
   "id": "c9a19cba",
   "metadata": {},
   "outputs": [],
   "source": [
    "not_workingTI = TI[(TI[P2_a]=='Desempregado e não estou buscando recolocação') \n",
    "                   | (TI[P2_a]== 'Desempregado, buscando recolocação') \n",
    "                  ].shape[0]/TI.shape[0]*100\n",
    "\n",
    "print(\"Desempregados TI: \"+str(round(not_workingTI,2))+'%')"
   ]
  },
  {
   "cell_type": "code",
   "execution_count": null,
   "id": "1ee8ad34",
   "metadata": {},
   "outputs": [],
   "source": [
    "not_workingResto = resto[(resto[P2_a]=='Desempregado e não estou buscando recolocação') \n",
    "                         | (resto[P2_a]== 'Desempregado, buscando recolocação') \n",
    "                         ].shape[0]/TI.shape[0]*100\n",
    "\n",
    "print(\"Desempregados Resto: \"+str(round(not_workingResto,2))+'%')"
   ]
  },
  {
   "cell_type": "code",
   "execution_count": null,
   "id": "7e8284f6",
   "metadata": {},
   "outputs": [],
   "source": [
    "#apenas para exclusão do grupo sem informação abaixo\n",
    "TI_sem_informacao = TI[(TI[P2_a]== 'Prefiro não informar')].shape[0]/TI.shape[0]*100\n",
    "resto_sem_informacao = resto[(resto[P2_a]== 'Prefiro não informar')].shape[0]/resto.shape[0]*100"
   ]
  },
  {
   "cell_type": "code",
   "execution_count": null,
   "id": "cc489e8f",
   "metadata": {},
   "outputs": [],
   "source": [
    "print(\"Trabalhadores TI: \"+str(round(100-(studyingTI+not_workingTI+TI_sem_informacao),2))+'%')\n",
    "print(\"Não Trabalhadores TI: \"+str(round(studyingTI+not_workingTI,2))+'%')\n",
    "print(\"Sem informação TI: \"+str(round(TI_sem_informacao,2))+'%'+'\\n')\n",
    "\n",
    "print(\"Trabalhadores Resto: \"+str(round(100-(studyingResto+not_workingResto+TI_sem_informacao),2))+'%')\n",
    "print(\"Não Trabalhadores Resto: \"+str(round(studyingResto+not_workingResto,2))+'%')\n",
    "print(\"Sem informação Resto: \"+str(round(resto_sem_informacao,2))+'%'+'\\n')"
   ]
  },
  {
   "cell_type": "markdown",
   "id": "a0ec9cd9",
   "metadata": {},
   "source": [
    "Como se percebe a maioria dos respondentes está trabalhando mas o percentual de não trabalhadores (estudantes + desempregados) é maior nas restantes formações.\n",
    "E embora o percentual de estudantes apenas difira cerca de 1%, os desempregados diferem quase 7%.\n",
    "\n",
    "\n",
    "O que é um indicativo que tem mais gente tentando migrar de área sem formação em TI, e também confirma o momento aquecido do mercado de TI , até porque é mais \"difícil\" estar desempregado num mercado aquecido.\n"
   ]
  },
  {
   "cell_type": "markdown",
   "id": "79fb810f",
   "metadata": {},
   "source": [
    "## Tempo de experiência na área de dados"
   ]
  },
  {
   "cell_type": "code",
   "execution_count": null,
   "id": "2e89c7ac",
   "metadata": {},
   "outputs": [],
   "source": [
    "#('P2_i ', 'Quanto tempo de experiência na área de dados você tem?')\n",
    "TI[P2_i].value_counts()"
   ]
  },
  {
   "cell_type": "code",
   "execution_count": null,
   "id": "1747b21c",
   "metadata": {},
   "outputs": [],
   "source": [
    "TI[P2_i].value_counts().sum()"
   ]
  },
  {
   "cell_type": "code",
   "execution_count": null,
   "id": "f9516e0f",
   "metadata": {},
   "outputs": [],
   "source": [
    "resto[P2_i].value_counts()"
   ]
  },
  {
   "cell_type": "code",
   "execution_count": null,
   "id": "32034fae",
   "metadata": {},
   "outputs": [],
   "source": [
    "resto[P2_i].value_counts().sum()"
   ]
  },
  {
   "cell_type": "code",
   "execution_count": null,
   "id": "6d19ad74",
   "metadata": {},
   "outputs": [],
   "source": [
    "labels_P2_i = [\"Não tenho experiência na área de dados\",\n",
    "            \"Menos de 1 ano\",\n",
    "            \"de 1 a 2 anos\",\n",
    "            \"de 2 a 3 anos\",\n",
    "            \"de 4 a 5 anos\",\n",
    "            \"de 6 a 10 anos\",\n",
    "            \"Mais de 10 anos\"]"
   ]
  },
  {
   "cell_type": "code",
   "execution_count": null,
   "id": "621987e4",
   "metadata": {},
   "outputs": [],
   "source": [
    "fig, axes = plt.subplots(1, 2, sharex=True, figsize=(16,8))\n",
    "\n",
    "top = 1.15\n",
    "right = 1.1\n",
    "\n",
    "\n",
    "colors= [\"#6778d0\",\n",
    "\"#86a542\",\n",
    "\"#9750a1\",\n",
    "\"#50b47b\",\n",
    "\"#b94a73\",\n",
    "\"#c18739\",\n",
    "\"#b84c3e\"]\n",
    "\n",
    "sns.set_theme()\n",
    "sns.set_style(\"ticks\")\n",
    "sns.set_palette(colors)\n",
    "\n",
    "\n",
    "\n",
    "ax1 = sns.barplot(ax= axes[0],data=TI, x=TI[P2_i].value_counts(normalize=True).values*100,\n",
    "                  y=TI[P2_i].value_counts(normalize=True).index,\n",
    "                   order=labels_P2_i)\n",
    "\n",
    "ax1.set_xlim(0, 40)\n",
    "ax1.set(xlabel=None,ylabel=None) \n",
    "ax1.set_title(\"Formação em TI\",fontdict={'fontsize': 20})\n",
    "vals = ax1.get_xticks()\n",
    "ax1.set_xticklabels([str(int(val))+'%' for val in vals])\n",
    "\n",
    "\n",
    "\n",
    "ax2 = sns.barplot(ax= axes[1],data=resto, x=resto[P2_i].value_counts(normalize=True).values*100,\n",
    "                  y=resto[P2_i].value_counts(normalize=True).index,\n",
    "                   order=labels_P2_i)\n",
    "\n",
    "ax2.set_xlim(0, 40)\n",
    "ax2.set(xlabel=None, ylabel=None)\n",
    "ax2.set_title(\"Outras Áreas\",fontdict={'fontsize': 20})\n",
    "ax2.tick_params(labelleft=False, left=False)\n",
    "\n",
    "\n",
    "\n",
    "for c in ax1.containers:\n",
    "    ax1.bar_label(c, fmt=f'%.2f', label_type='edge')\n",
    "\n",
    "for c in ax2.containers:\n",
    "    ax2.bar_label(c, fmt=f'%.2f', label_type='edge')  \n",
    "    \n",
    "    \n",
    "\n",
    "ax1.text(right, top, 'Tempo de experiência na área de dados',\n",
    "        horizontalalignment='center',\n",
    "        verticalalignment='center',\n",
    "        transform=ax1.transAxes,\n",
    "        fontdict={'fontsize': 22})\n",
    "\n",
    "\n",
    "sns.despine()\n",
    "ax2.spines['left'].set_visible(False)\n",
    "ax1.spines['left'].set_visible(False)\n",
    "plt.show()"
   ]
  },
  {
   "cell_type": "markdown",
   "id": "fec63f4b",
   "metadata": {},
   "source": [
    "Podemos verificar que existe uma concentração maior no tempo de experiência entre 0 e 3 anos de quem vem de outras áreas.\n",
    "Enquanto que na formação em TI a distribuição de experiência é mais uniforme.\n",
    "\n",
    "\n",
    "Isto nos dá vários indícios:\n",
    "* Quem tem formação em TI conhece a área de dados há mais tempo.\n",
    "* Antigamente a área de dados procurava mais formação em TI.\n",
    "* E os casos de sucesso junto com o momento quente da área de dados impulsionaram mais mudanças de carreira.\n",
    "\n"
   ]
  },
  {
   "cell_type": "markdown",
   "id": "f29e829a",
   "metadata": {},
   "source": [
    "Também é curioso observarmos que o subgrupo que não tem experiência na área de dados, que é maior em TI (5,77% vs 4,72%), é diferente do subgrupo de desempregados, que é de 3,02% em TI e 9,71% nas restantes áreas.\n",
    "\n",
    "\n",
    "Esta diferença levanta a hipótese de que quem não vem na área de TI necessita mais experiência para se efetivar na área de dados."
   ]
  },
  {
   "cell_type": "markdown",
   "id": "4a3360e7",
   "metadata": {},
   "source": [
    "Porém verificamos se o subgrupo dos desempregados tinha respondido à questão de tempo de experiência na área de dados para poder investigar essa diferença. Mas como podemos ver abaixo não existe essa informação."
   ]
  },
  {
   "cell_type": "code",
   "execution_count": null,
   "id": "020cde4c",
   "metadata": {},
   "outputs": [],
   "source": [
    "not_workingTI = TI[(TI[P2_a]=='Desempregado e não estou buscando recolocação') \n",
    "                   | (TI[P2_a]== 'Desempregado, buscando recolocação') \n",
    "                  ]\n",
    "\n",
    "not_workingResto = resto[(resto[P2_a]=='Desempregado e não estou buscando recolocação') \n",
    "                         | (resto[P2_a]== 'Desempregado, buscando recolocação') \n",
    "                         ]\n",
    "\n",
    "\n",
    "not_workingResto[P2_i].value_counts(), not_workingTI[P2_i].value_counts()"
   ]
  },
  {
   "cell_type": "code",
   "execution_count": null,
   "id": "674ba12f",
   "metadata": {},
   "outputs": [],
   "source": [
    "dados[(dados[P2_a]=='Desempregado e não estou buscando recolocação') \n",
    "                   | (dados[P2_a]== 'Desempregado, buscando recolocação') \n",
    "                  ][P2_i].value_counts()"
   ]
  },
  {
   "cell_type": "markdown",
   "id": "40c98654",
   "metadata": {},
   "source": [
    "Se concluindo apenas que o percentual de pessoas tentando migrar de para a área de dados enquanto trabalham, na área de TI é ligeiramente superior (aproxidamente 1%) às demais áreas.\n",
    "\n",
    "O que pode ser explicado pelo maior acesso à área de dados quando se está trabalhando na área de TI, seja porque a empresa já possui um setor de dados, ou simplesmente porque o networking de quem já está dentro do setor é mais efetivo."
   ]
  },
  {
   "cell_type": "markdown",
   "id": "f50bfe58",
   "metadata": {},
   "source": [
    "## Tempo de experiência na área de TI/Engenharia de Software antes de começar a trabalhar "
   ]
  },
  {
   "cell_type": "code",
   "execution_count": null,
   "id": "35e8ca28",
   "metadata": {},
   "outputs": [],
   "source": [
    "#\"('P2_j ', 'Quanto tempo de experiência na área de TI/Engenharia de Software você teve antes de começar a trabalhar na área de dados?')\"\n",
    "TI[P2_j].value_counts()"
   ]
  },
  {
   "cell_type": "code",
   "execution_count": null,
   "id": "c7b4dc49",
   "metadata": {},
   "outputs": [],
   "source": [
    "TI[P2_j].value_counts().sum()"
   ]
  },
  {
   "cell_type": "code",
   "execution_count": null,
   "id": "66757256",
   "metadata": {},
   "outputs": [],
   "source": [
    "resto[P2_j].value_counts()"
   ]
  },
  {
   "cell_type": "code",
   "execution_count": null,
   "id": "35df2c40",
   "metadata": {},
   "outputs": [],
   "source": [
    "resto[P2_j].value_counts().sum()"
   ]
  },
  {
   "cell_type": "code",
   "execution_count": null,
   "id": "f228baaf",
   "metadata": {},
   "outputs": [],
   "source": [
    "labels_P2_j = ['Não tive experiência na área de TI/Engenharia de Software antes de começar a trabalhar na área de dados',\n",
    "               'Menos de 1 ano',\n",
    "               'de 1 a 2 anos',\n",
    "               'de 2 a 3 anos',\n",
    "               'de 4 a 5 anos',\n",
    "               'de 6 a 10 anos', \n",
    "               'Mais de 10 anos']"
   ]
  },
  {
   "cell_type": "code",
   "execution_count": null,
   "id": "e1cb5cd4",
   "metadata": {},
   "outputs": [],
   "source": [
    "fig, axes = plt.subplots(1, 2, sharex=True, figsize=(16,8))\n",
    "\n",
    "top = 1.15\n",
    "right = 1.1\n",
    "\n",
    "\n",
    "colors= [\"#aaa23f\",\n",
    "\"#654096\",\n",
    "\"#56ae6c\",\n",
    "\"#c060a7\",\n",
    "\"#b85f36\",\n",
    "\"#6f85dc\",\n",
    "\"#b74560\"]\n",
    "\n",
    "sns.set_theme()\n",
    "sns.set_style(\"ticks\")\n",
    "sns.set_palette(colors)\n",
    "\n",
    "\n",
    "\n",
    "ax1 = sns.barplot(ax= axes[0],data=TI, x=TI[P2_j].value_counts(normalize=True).values*100,\n",
    "                  y=TI[P2_j].value_counts(normalize=True).index,\n",
    "                   order=labels_P2_j)\n",
    "\n",
    "ax1.tick_params(axis='x',labelrotation=0)\n",
    "ax1.set_xlim(0, 60)\n",
    "ax1.set(xlabel=None,ylabel=None)\n",
    "ax1.set_title(\"Formação em TI\",fontdict={'fontsize': 20})\n",
    "vals = ax1.get_xticks()\n",
    "ax1.set_xticklabels([str(int(val))+'%' for val in vals]);\n",
    "ax1.set_yticklabels([textwrap.fill(e, 20) for e in labels_P2_j])\n",
    "\n",
    "\n",
    "\n",
    "ax2 = sns.barplot(ax= axes[1],data=resto, x=resto[P2_j].value_counts(normalize=True).values*100,\n",
    "                  y=resto[P2_j].value_counts(normalize=True).index,\n",
    "                   order=labels_P2_j)\n",
    "\n",
    "ax2.tick_params(axis='x',labelrotation=0)\n",
    "ax2.set_xlim(0, 60)\n",
    "ax2.set(xlabel=None, ylabel=None)\n",
    "ax2.set_title(\"Outras Áreas\",fontdict={'fontsize': 20})\n",
    "ax2.tick_params(labelleft=False, left=False)\n",
    "\n",
    "\n",
    "for c in ax1.containers:\n",
    "    ax1.bar_label(c, fmt=f'%.2f', label_type='edge')\n",
    "    \n",
    "for c in ax2.containers:\n",
    "    ax2.bar_label(c, fmt=f'%.2f', label_type='edge')    \n",
    "\n",
    "\n",
    "ax1.text(right, top, 'Experiência prévia com TI',\n",
    "        horizontalalignment='center',\n",
    "        verticalalignment='center',\n",
    "        transform=ax1.transAxes,\n",
    "        fontdict={'fontsize': 22})\n",
    "\n",
    "\n",
    "sns.despine()\n",
    "ax2.spines['left'].set_visible(False)\n",
    "ax1.spines['left'].set_visible(False)\n",
    "plt.show()"
   ]
  },
  {
   "cell_type": "markdown",
   "id": "ebae8f63",
   "metadata": {},
   "source": [
    "Aqui podemos ver que os formados em TI migram para a área de dados em qualquer nível de maturidade da sua carreira.\n",
    "Levantando a hipótese que isso talvez seja explicado parcialmente pela restruturação de cargos que o setor de dados sofreu nos últimos anos, que com a maturidade entende melhor qual é o limite de um desenvolvedor e um engenheiro de dados por exemplo.\n",
    "\n",
    "Curioso é também verificar que existe um percentual significativo de pessoas com outras formações que já tinha atuado dentro do setor de TI (43,62%). Constítuindo assim um grupo com dupla migração de carreira."
   ]
  },
  {
   "cell_type": "code",
   "execution_count": null,
   "id": "d73a0419",
   "metadata": {},
   "outputs": [],
   "source": [
    "TI[TI[P2_j]=='Não tive experiência na área de TI/Engenharia de Software antes de começar a trabalhar na área de dados'][P2_i].value_counts(normalize=True)*100"
   ]
  },
  {
   "cell_type": "code",
   "execution_count": null,
   "id": "46756bf8",
   "metadata": {},
   "outputs": [],
   "source": [
    "resto[resto[P2_j]=='Não tive experiência na área de TI/Engenharia de Software antes de começar a trabalhar na área de dados'][P2_i].value_counts(normalize=True)*100"
   ]
  },
  {
   "cell_type": "markdown",
   "id": "dc1fe604",
   "metadata": {},
   "source": [
    "## Atuação "
   ]
  },
  {
   "cell_type": "code",
   "execution_count": null,
   "id": "a33fe370",
   "metadata": {},
   "outputs": [],
   "source": [
    "#\"('P4_a ', 'Atuacao')\"\n",
    "TI[P4_a].value_counts()"
   ]
  },
  {
   "cell_type": "code",
   "execution_count": null,
   "id": "ecde53ea",
   "metadata": {},
   "outputs": [],
   "source": [
    "TI[P4_a].value_counts().sum()"
   ]
  },
  {
   "cell_type": "code",
   "execution_count": null,
   "id": "b849c043",
   "metadata": {},
   "outputs": [],
   "source": [
    "resto[P4_a].value_counts()"
   ]
  },
  {
   "cell_type": "code",
   "execution_count": null,
   "id": "2d97b911",
   "metadata": {},
   "outputs": [],
   "source": [
    "resto[P4_a].value_counts().sum()"
   ]
  },
  {
   "cell_type": "code",
   "execution_count": null,
   "id": "5d7d1e40",
   "metadata": {},
   "outputs": [],
   "source": [
    "labels_P4_a =[\"Análise de Dados\",\n",
    "    \"Ciência de Dados\",\n",
    "    \"Engenharia de Dados\",\n",
    "      \"Gestor\",\n",
    "       \"Outra\",\n",
    "    \"Buscando emprego na área de dados.\"\n",
    "]"
   ]
  },
  {
   "cell_type": "code",
   "execution_count": null,
   "id": "c0490359",
   "metadata": {},
   "outputs": [],
   "source": [
    "fig, axes = plt.subplots(1, 2, sharex=True, figsize=(16,8))\n",
    "\n",
    "top = 1.15\n",
    "right = 1.1\n",
    "\n",
    "\n",
    "colors= [\"#7f62b8\",\n",
    "\"#6ca24d\",\n",
    "\"#b84c7d\",\n",
    "\"#46c19a\",\n",
    "\"#b8533c\",\n",
    "\"#bc9b3c\"]\n",
    "\n",
    "sns.set_theme()\n",
    "sns.set_style(\"ticks\")\n",
    "sns.set_palette(colors)\n",
    "\n",
    "\n",
    "\n",
    "ax1 = sns.barplot(ax= axes[0],data=TI, x=TI[P4_a].value_counts(normalize=True).values*100,\n",
    "                  y=TI[P4_a].value_counts(normalize=True).index,\n",
    "                   order=labels_P4_a)\n",
    "\n",
    "ax1.tick_params(axis='x',labelrotation=0)\n",
    "ax1.set_xlim(0, 40)\n",
    "ax1.set(xlabel=None,ylabel=None)\n",
    "ax1.set_title(\"Formação em TI\",fontdict={'fontsize': 20})\n",
    "vals = ax1.get_xticks()\n",
    "ax1.set_xticklabels([str(int(val))+'%' for val in vals]);\n",
    "ax1.set_yticklabels([textwrap.fill(e, 20) for e in labels_P4_a])\n",
    "\n",
    "\n",
    "\n",
    "ax2 = sns.barplot(ax= axes[1],data=resto, x=resto[P4_a].value_counts(normalize=True).values*100,\n",
    "                  y=resto[P4_a].value_counts(normalize=True).index,\n",
    "                   order=labels_P4_a)\n",
    "\n",
    "ax2.tick_params(axis='x',labelrotation=0)\n",
    "ax2.set_xlim(0, 40)\n",
    "ax2.set(xlabel=None, ylabel=None)\n",
    "ax2.set_title(\"Outras Áreas\",fontdict={'fontsize': 20})\n",
    "ax2.tick_params(labelleft=False, left=False)\n",
    "\n",
    "\n",
    "\n",
    "for c in ax1.containers:\n",
    "    ax1.bar_label(c, fmt=f'%.2f', label_type='edge')\n",
    "\n",
    "for c in ax2.containers:\n",
    "    ax2.bar_label(c, fmt=f'%.2f', label_type='edge')    \n",
    "\n",
    "\n",
    "ax1.text(right, top, 'Área de atuação',\n",
    "        horizontalalignment='center',\n",
    "        verticalalignment='center',\n",
    "        transform=ax1.transAxes,\n",
    "        fontdict={'fontsize': 24})\n",
    "\n",
    "\n",
    "sns.despine()\n",
    "ax2.spines['left'].set_visible(False)\n",
    "ax1.spines['left'].set_visible(False)\n",
    "plt.show()"
   ]
  },
  {
   "cell_type": "markdown",
   "id": "d42de3d7",
   "metadata": {},
   "source": [
    "Conseguimos ver claramente que o cargo de Analista de dados é predominante entre quem não teve formação em TI, enquanto que a Engenharia de dados assume maior peso para quem é formado em TI.\n",
    "\n",
    "Talvez isto se explique a análise de dados requer maior conhecimento específico do negócio, que acaba sendo uma competência que favorece quem já teve mais exposição a diferentes áreas, enquanto que a Engenharia de dados requer um maior domínio de programação, que obviamente favorece quem tem formação em TI.\n",
    "\n",
    "\n",
    "\n",
    "Mas aqui surge um subgrupo que pode nos ajudar a responder à nossa questão inicial (É mais difícil migrar de área para quem não se formou em TI?), o grupo que está buscando emprego na área de dados, que é maior (cerca de 5%) entre entres os não formados em TI.\n",
    "\n",
    "\n"
   ]
  },
  {
   "cell_type": "markdown",
   "id": "9914c3cc",
   "metadata": {},
   "source": [
    "Antes de avançarmos para a análise da próxima questão vamos olhar rapidamente para os números totais deste subgrupo."
   ]
  },
  {
   "cell_type": "code",
   "execution_count": null,
   "id": "aba97c3e",
   "metadata": {},
   "outputs": [],
   "source": [
    "print('Quantos estão buscando emprego na área de dados\\n')\n",
    "print('TI: '+str(TI[TI[P4_a]==\"Buscando emprego na área de dados.\"].shape[0]))\n",
    "print('Resto: '+str(resto[resto[P4_a]==\"Buscando emprego na área de dados.\"].shape[0]))"
   ]
  },
  {
   "cell_type": "code",
   "execution_count": null,
   "id": "e98fdef4",
   "metadata": {},
   "outputs": [],
   "source": [
    "print('Quantos '+ '\\033[1m' + 'desempregados '+ '\\033[0m'+'estão buscando emprego na área de dados\\n')\n",
    "print('TI: '+str(TI[TI[P2_a]==\"Desempregado, buscando recolocação\"].shape[0]))\n",
    "print('Resto: '+str(resto[resto[P2_a]==\"Desempregado, buscando recolocação\"].shape[0]))"
   ]
  },
  {
   "cell_type": "code",
   "execution_count": null,
   "id": "a488fa53",
   "metadata": {},
   "outputs": [],
   "source": [
    "print('Quantos responderam à pergunta P5_c (ver abaixo)\\n')\n",
    "print('TI: '+str(TI[P5_c].value_counts().sum()))\n",
    "print('Resto: '+str(resto[P5_c].value_counts().sum()))"
   ]
  },
  {
   "cell_type": "code",
   "execution_count": null,
   "id": "25a4df3f",
   "metadata": {},
   "outputs": [],
   "source": [
    "print('Quantos '+ '\\033[1m' + 'desempregados '+ '\\033[0m'+'responderam à pergunta P5_c (ver abaixo)\\n')\n",
    "print('TI: '+str(TI[TI[P2_a]==\"Desempregado, buscando recolocação\"][P5_c].value_counts().sum()))\n",
    "print('Resto: '+str(resto[resto[P2_a]==\"Desempregado, buscando recolocação\"][P5_c].value_counts().sum()))"
   ]
  },
  {
   "cell_type": "code",
   "execution_count": null,
   "id": "950bbd71",
   "metadata": {},
   "outputs": [],
   "source": [
    "print('Percentual de desempregados entre os que estão buscando emprego\\n')\n",
    "print('TI: '+str(round(31/73*100,2))+'%')\n",
    "print('Resto: '+str(round(100/171*100,2))+'%')"
   ]
  },
  {
   "cell_type": "code",
   "execution_count": null,
   "id": "a85935a7",
   "metadata": {},
   "outputs": [],
   "source": [
    "print('Percentual de desempregados entre os que responderam à pergunta P5_c\\n')\n",
    "print('TI: '+str(round(19/39*100,2))+'%')\n",
    "print('Resto: '+str(round(73/122*100,2))+'%')"
   ]
  },
  {
   "cell_type": "markdown",
   "id": "0951bdee",
   "metadata": {},
   "source": [
    "Vemos que quem está empregado mas buscando uma oportunidade teve uma tendência em não responder sobre há quanto o está fazendo, gerando um pequeno viés entre empregados e desempregados, em particular na área de TI (aproxidamente 6% vs 1,5%).\n",
    " "
   ]
  },
  {
   "cell_type": "code",
   "execution_count": null,
   "id": "53555cf1",
   "metadata": {},
   "outputs": [],
   "source": [
    "print('Percentual de pessoas buscando emprego que responderam à pergunta P5_c\\n')\n",
    "print('TI: '+str(round(39/73*100,2))+'%')\n",
    "print('Resto: '+str(round(122/171*100,2))+'%')"
   ]
  },
  {
   "cell_type": "markdown",
   "id": "6543ecc1",
   "metadata": {},
   "source": [
    "Confirmamos aqui que nem todas as pessoas buscando emprego responderam sobre há quanto tempo o estão fazendo.\n",
    "\n",
    "Mas o mais crítico é o viés entre as os respondentes, mais pessoas (18%) das restantes formações responderam à pergunta.\n",
    "Então temos que ter esse viés em consideração na análise pergunta seguinte.\n"
   ]
  },
  {
   "cell_type": "markdown",
   "id": "fbee733a",
   "metadata": {},
   "source": [
    "## Há quanto tempo você busca uma oportunidade na área de dados?"
   ]
  },
  {
   "cell_type": "code",
   "execution_count": null,
   "id": "e325b260",
   "metadata": {},
   "outputs": [],
   "source": [
    "#\"('P5_c ', 'Há quanto tempo você busca uma oportunidade na área de dados?')\"\n",
    "TI[P5_c].value_counts()"
   ]
  },
  {
   "cell_type": "code",
   "execution_count": null,
   "id": "b05a88eb",
   "metadata": {},
   "outputs": [],
   "source": [
    "TI[P5_c].value_counts().sum()"
   ]
  },
  {
   "cell_type": "code",
   "execution_count": null,
   "id": "7e291109",
   "metadata": {},
   "outputs": [],
   "source": [
    "resto[P5_c].value_counts()"
   ]
  },
  {
   "cell_type": "code",
   "execution_count": null,
   "id": "ed6c5066",
   "metadata": {},
   "outputs": [],
   "source": [
    "resto[P5_c].value_counts().sum()"
   ]
  },
  {
   "cell_type": "code",
   "execution_count": null,
   "id": "6c003fb2",
   "metadata": {},
   "outputs": [],
   "source": [
    "TI.shape[0], resto.shape[0]"
   ]
  },
  {
   "cell_type": "markdown",
   "id": "0087c1e6",
   "metadata": {},
   "source": [
    "Aqui vale alertar que estamos olhando um subgrupo pequeno, quando comparado ao original (TI de 1092 para 39, resto de 1549 para 122) 3,57% e 7,87% para TI e os demais respetivamente."
   ]
  },
  {
   "cell_type": "markdown",
   "id": "d15fc793",
   "metadata": {},
   "source": [
    "Nesta pergunta vamos olhar também o subgrupo dos desempregados."
   ]
  },
  {
   "cell_type": "code",
   "execution_count": null,
   "id": "255c9b9e",
   "metadata": {},
   "outputs": [],
   "source": [
    "TI[TI[P2_a]==\"Desempregado, buscando recolocação\"][P5_c].value_counts()"
   ]
  },
  {
   "cell_type": "code",
   "execution_count": null,
   "id": "766c6b0e",
   "metadata": {},
   "outputs": [],
   "source": [
    "TI[TI[P2_a]==\"Desempregado, buscando recolocação\"][P5_c].value_counts().sum()"
   ]
  },
  {
   "cell_type": "code",
   "execution_count": null,
   "id": "5c0525ca",
   "metadata": {},
   "outputs": [],
   "source": [
    "resto[resto[P2_a]==\"Desempregado, buscando recolocação\"][P5_c].value_counts()"
   ]
  },
  {
   "cell_type": "code",
   "execution_count": null,
   "id": "5e97e220",
   "metadata": {},
   "outputs": [],
   "source": [
    "resto[resto[P2_a]==\"Desempregado, buscando recolocação\"][P5_c].value_counts().sum()"
   ]
  },
  {
   "cell_type": "markdown",
   "id": "96e8e33b",
   "metadata": {},
   "source": [
    "Para tentar o entender universo de quem respondeu a esta pergunta, assim como tentar descobrir as diferenças verificadas acima, vamos olhar a atividade atual destes respondentes."
   ]
  },
  {
   "cell_type": "code",
   "execution_count": null,
   "id": "5f88a417",
   "metadata": {},
   "outputs": [],
   "source": [
    "TI[~TI[P5_c].isna()][P2_a].value_counts(normalize=True)"
   ]
  },
  {
   "cell_type": "code",
   "execution_count": null,
   "id": "5ce84d7a",
   "metadata": {},
   "outputs": [],
   "source": [
    "resto[~resto[P5_c].isna()][P2_a].value_counts(normalize=True)"
   ]
  },
  {
   "cell_type": "markdown",
   "id": "bb5f6309",
   "metadata": {},
   "source": [
    "A área de TI possui um grupo maior de estudantes, 17% a mais que as restantes áreas.\n",
    "\n",
    "Enquanto que as demais áreas possuem mais desempregados (mais 11%), e mais acadêmicos (mais 6,5%)."
   ]
  },
  {
   "cell_type": "code",
   "execution_count": null,
   "id": "9ca236a7",
   "metadata": {},
   "outputs": [],
   "source": [
    "labels_P5_c = [\"0 - 6 meses\",\n",
    "               \"7 meses - 1 ano\",\n",
    "               \"1 ano - 2 anos\"]"
   ]
  },
  {
   "cell_type": "code",
   "execution_count": null,
   "id": "9a2d6a21",
   "metadata": {},
   "outputs": [],
   "source": [
    "fig, axes = plt.subplots(1, 2, sharex=True, figsize=(16,8))\n",
    "\n",
    "top = 1.15\n",
    "right = 1.1\n",
    "\n",
    "\n",
    "colors= [\"#c76674\",\n",
    "\"#9a9945\",\n",
    "\"#8961b3\"]\n",
    "\n",
    "sns.set_theme()\n",
    "sns.set_style(\"ticks\")\n",
    "sns.set_palette(colors)\n",
    "\n",
    "\n",
    "\n",
    "ax1 = sns.barplot(ax= axes[0],data=TI, x=TI[P5_c].value_counts(normalize=True).values*100,\n",
    "                  y=TI[P5_c].value_counts(normalize=True).index,\n",
    "                   order=labels_P5_c)\n",
    "\n",
    "ax1.set_xlim(0, 100)\n",
    "ax1.set(xlabel=None,ylabel=None)\n",
    "ax1.set_title(\"Formação em TI\",fontdict={'fontsize': 20})\n",
    "vals = ax1.get_xticks()\n",
    "ax1.set_xticklabels([str(int(val))+'%' for val in vals])\n",
    "\n",
    "\n",
    "\n",
    "ax2 = sns.barplot(ax= axes[1],data=resto, x=resto[P5_c].value_counts(normalize=True).values*100,\n",
    "                  y=resto[P5_c].value_counts(normalize=True).index,\n",
    "                   order=labels_P5_c)\n",
    "\n",
    "ax2.set_xlim(0, 100)\n",
    "ax2.set(xlabel=None, ylabel=None)\n",
    "ax2.set_title(\"Outras Áreas\",fontdict={'fontsize': 20})\n",
    "ax2.tick_params(labelleft=False, left=False)\n",
    "\n",
    "\n",
    "\n",
    "for c in ax1.containers:\n",
    "    ax1.bar_label(c, fmt=f'%.2f', label_type='edge')\n",
    "    \n",
    "for c in ax2.containers:\n",
    "    ax2.bar_label(c, fmt=f'%.2f', label_type='edge') \n",
    "\n",
    "\n",
    "ax1.text(right, top, 'Tempo buscando uma oportunidade na área de dados',\n",
    "        horizontalalignment='center',\n",
    "        verticalalignment='center',\n",
    "        transform=ax1.transAxes,\n",
    "        fontdict={'fontsize': 22})\n",
    "\n",
    "\n",
    "sns.despine()\n",
    "ax2.spines['left'].set_visible(False)\n",
    "ax1.spines['left'].set_visible(False)\n",
    "plt.show()"
   ]
  },
  {
   "cell_type": "markdown",
   "id": "20f2375f",
   "metadata": {},
   "source": [
    "Verficamos que apenas existem respondentes procurando emprego há mais de um ano entre quem não é formado em TI. Embora lembrando que isso possa ser enviesado pelo subgrupo de desempregados como vimos acima."
   ]
  },
  {
   "cell_type": "code",
   "execution_count": null,
   "id": "9ad2b732",
   "metadata": {},
   "outputs": [],
   "source": [
    "fig, axes = plt.subplots(1, 2, sharex=True, figsize=(16,8))\n",
    "\n",
    "top = 1.15\n",
    "right = 1.1\n",
    "\n",
    "\n",
    "colors= [\"#c76674\",\n",
    "\"#9a9945\",\n",
    "\"#8961b3\"]\n",
    "\n",
    "sns.set_theme()\n",
    "sns.set_style(\"ticks\")\n",
    "sns.set_palette(colors)\n",
    "\n",
    "\n",
    "\n",
    "ax1 = sns.barplot(ax= axes[0],data=TI, x=TI[TI[P2_a]==\"Desempregado, buscando recolocação\"][P5_c].value_counts(normalize=True).values*100,\n",
    "                  y=TI[TI[P2_a]==\"Desempregado, buscando recolocação\"][P5_c].value_counts(normalize=True).index,\n",
    "                   order=labels_P5_c)\n",
    "\n",
    "ax1.set_xlim(0, 100)\n",
    "ax1.set(xlabel=None,ylabel=None)\n",
    "ax1.set_title(\"Formação em TI\",fontdict={'fontsize': 20})\n",
    "vals = ax1.get_xticks()\n",
    "ax1.set_xticklabels([str(int(val))+'%' for val in vals])\n",
    "\n",
    "\n",
    "\n",
    "ax2 = sns.barplot(ax= axes[1],data=resto, x=resto[resto[P2_a]==\"Desempregado, buscando recolocação\"][P5_c].value_counts(normalize=True).values*100,\n",
    "                  y=resto[resto[P2_a]==\"Desempregado, buscando recolocação\"][P5_c].value_counts(normalize=True).index,\n",
    "                   order=labels_P5_c)\n",
    "\n",
    "ax2.set_xlim(0, 100)\n",
    "ax2.set(xlabel=None, ylabel=None)\n",
    "ax2.set_title(\"Outras Áreas\",fontdict={'fontsize': 20})\n",
    "ax2.tick_params(labelleft=False, left=False)\n",
    "\n",
    "\n",
    "\n",
    "for c in ax1.containers:\n",
    "    ax1.bar_label(c, fmt=f'%.2f', label_type='edge')\n",
    "\n",
    "for c in ax2.containers:\n",
    "    ax2.bar_label(c, fmt=f'%.2f', label_type='edge') \n",
    "\n",
    "\n",
    "ax1.text(right, top, 'Tempo buscando uma oportunidade na área de dados',\n",
    "        horizontalalignment='center',\n",
    "        verticalalignment='center',\n",
    "        transform=ax1.transAxes,\n",
    "        fontdict={'fontsize': 22})\n",
    "\n",
    "\n",
    "sns.despine()\n",
    "ax2.spines['left'].set_visible(False)\n",
    "ax1.spines['left'].set_visible(False)\n",
    "plt.show()"
   ]
  },
  {
   "cell_type": "markdown",
   "id": "5062f13e",
   "metadata": {},
   "source": [
    "No subgrupo de desempregados quem não é da área de TI está buscando emprego há mais tempo, tanto o grupo de 7 meses a 1 ano, como o grupo de 1 a 2 anos é maior."
   ]
  },
  {
   "cell_type": "markdown",
   "id": "535e75ff",
   "metadata": {},
   "source": [
    "## Como tem sido a busca por um emprego na área de dados?"
   ]
  },
  {
   "cell_type": "code",
   "execution_count": null,
   "id": "b837c58c",
   "metadata": {},
   "outputs": [],
   "source": [
    "#'P5_d ', 'Como tem sido a busca por um emprego na área de dados?'\n",
    "TI[P5_d].value_counts()"
   ]
  },
  {
   "cell_type": "code",
   "execution_count": null,
   "id": "91d1ed8a",
   "metadata": {},
   "outputs": [],
   "source": [
    "TI[P5_d].value_counts().sum()"
   ]
  },
  {
   "cell_type": "code",
   "execution_count": null,
   "id": "578b86a2",
   "metadata": {},
   "outputs": [],
   "source": [
    "resto[P5_d].value_counts()"
   ]
  },
  {
   "cell_type": "code",
   "execution_count": null,
   "id": "b38462e0",
   "metadata": {},
   "outputs": [],
   "source": [
    "resto[P5_d].value_counts().sum()"
   ]
  },
  {
   "cell_type": "code",
   "execution_count": null,
   "id": "3d12d06f",
   "metadata": {},
   "outputs": [],
   "source": [
    "labels_P5_d = [\n",
    "    \"Ainda não me candidatei a nenhuma vaga na área.\",\n",
    "    \"Já me candidatei, mas nunca fui chamado para entrevistas.\",\n",
    "    \"Já participei de 1 a 3 entrevistas, mas não fui contratado.\",\n",
    "    \"Participei de mais de 3 entrevistas, mas não fui contratado.\",\n",
    "    \"Estou prestando alguns processos e esperando a chegada das entrevistas\"\n",
    "]"
   ]
  },
  {
   "cell_type": "code",
   "execution_count": null,
   "id": "9ebe85ea",
   "metadata": {},
   "outputs": [],
   "source": [
    "fig, axes = plt.subplots(1, 2, sharex=True, figsize=(16,8))\n",
    "\n",
    "top = 1.15\n",
    "right = 1.1\n",
    "\n",
    "\n",
    "colors= [\"#7f62b8\",\n",
    "\"#6ca24d\",\n",
    "\"#b84c7d\",\n",
    "\"#46c19a\",\n",
    "\"#b8533c\",\n",
    "\"#bc9b3c\"]\n",
    "\n",
    "sns.set_theme()\n",
    "sns.set_style(\"ticks\")\n",
    "sns.set_palette(colors)\n",
    "\n",
    "\n",
    "ax1 = sns.barplot(ax= axes[0],data=TI, \n",
    "                  x=np.append(TI[P5_d].value_counts(normalize=True).values*100,[0]),\n",
    "                  y=np.append(TI[P5_d].value_counts(normalize=True).index,[\"Estou prestando alguns processos e esperando a chegada das entrevistas\"]),\n",
    "                order=labels_P5_d)\n",
    "\n",
    "ax1.tick_params(axis='x',labelrotation=0)\n",
    "ax1.set_xlim(0, 60)\n",
    "ax1.set(xlabel=None,ylabel=None) \n",
    "ax1.set_title(\"Formação em TI\",fontdict={'fontsize': 20})\n",
    "vals = ax1.get_xticks()\n",
    "ax1.set_xticklabels([str(int(val))+'%' for val in vals]);\n",
    "ax1.set_yticklabels([textwrap.fill(e, 20) for e in labels_P5_d])\n",
    "\n",
    "\n",
    "\n",
    "ax2 = sns.barplot(ax= axes[1],data=resto, x=resto[P5_d].value_counts(normalize=True).values*100,\n",
    "                  y=resto[P5_d].value_counts(normalize=True).index,\n",
    "                   order=labels_P5_d)\n",
    "\n",
    "ax2.tick_params(axis='x',labelrotation=0)\n",
    "ax2.set_xlim(0, 60)\n",
    "ax2.set(xlabel=None, ylabel=None)\n",
    "ax2.set_title(\"Outras Áreas\",fontdict={'fontsize': 20})\n",
    "ax2.tick_params(labelleft=False, left=False)\n",
    "\n",
    "\n",
    "\n",
    "for c in ax1.containers:\n",
    "    ax1.bar_label(c, fmt=f'%.2f', label_type='edge')\n",
    "    \n",
    "for c in ax2.containers:\n",
    "    ax2.bar_label(c, fmt=f'%.2f', label_type='edge') \n",
    "\n",
    "\n",
    "ax1.text(right, top, 'Como tem sido a busca por um emprego na área de dados',\n",
    "        horizontalalignment='center',\n",
    "        verticalalignment='center',\n",
    "        transform=ax1.transAxes,\n",
    "        fontdict={'fontsize': 24})\n",
    "\n",
    "\n",
    "sns.despine()\n",
    "ax2.spines['left'].set_visible(False)\n",
    "ax1.spines['left'].set_visible(False)\n",
    "plt.show()"
   ]
  },
  {
   "cell_type": "markdown",
   "id": "c82b8447",
   "metadata": {},
   "source": [
    "Vemos que temos mais pessoas não buscando ativamente (candidatando a vagas) dentro do grupo de TI, 8% a mais.\n",
    "\n",
    "Assim como se observa que quem não é de TI está participando de mais entrevistas, tanto na categoria de 1 a 3 entrevistas como de mais de 3."
   ]
  },
  {
   "cell_type": "markdown",
   "id": "c238c4bf",
   "metadata": {},
   "source": [
    "Isso pode nos indicar um grau de dificuldade maior para ser contratado entre os não formandos em TI, ou alternativamente que o grupo dos respondentes formados em TI está num estágio menos avançado da busca de emprego (vide primeiro ponto sobre a busca ativa)."
   ]
  },
  {
   "cell_type": "markdown",
   "id": "e4279f4d",
   "metadata": {},
   "source": [
    "## Qual oportunidade você está buscando?"
   ]
  },
  {
   "cell_type": "code",
   "execution_count": null,
   "id": "67d68bf1",
   "metadata": {},
   "outputs": [],
   "source": [
    "#'P5_b ', 'Qual oportunidade você está buscando?'\n",
    "TI[P5_b].value_counts()"
   ]
  },
  {
   "cell_type": "code",
   "execution_count": null,
   "id": "345b497f",
   "metadata": {},
   "outputs": [],
   "source": [
    "TI[P5_b].value_counts().sum()"
   ]
  },
  {
   "cell_type": "code",
   "execution_count": null,
   "id": "bf4c527d",
   "metadata": {},
   "outputs": [],
   "source": [
    "resto[P5_b].value_counts()"
   ]
  },
  {
   "cell_type": "code",
   "execution_count": null,
   "id": "0650ed2c",
   "metadata": {},
   "outputs": [],
   "source": [
    "resto[P5_b].value_counts().sum()"
   ]
  },
  {
   "cell_type": "code",
   "execution_count": null,
   "id": "d6f7a341",
   "metadata": {},
   "outputs": [],
   "source": [
    "labels_P5_b =[\"Ciência de Dados/Data Scientist\",\n",
    "    \"Análise de Dados/Data Analyst\",\n",
    "              \"Engenharia de Dados/Data Engineer\",\n",
    "             \"Business Intelligence/BI\",\n",
    "              \"Business Analyst\",\n",
    "              \"Arquitetura de dados/Data Architecture\"\n",
    "]"
   ]
  },
  {
   "cell_type": "code",
   "execution_count": null,
   "id": "76c848cd",
   "metadata": {},
   "outputs": [],
   "source": [
    "fig, axes = plt.subplots(1, 2, sharex=True, figsize=(16,8))\n",
    "\n",
    "top = 1.15\n",
    "right = 1.1\n",
    "\n",
    "\n",
    "colors= [\"#7f62b8\",\n",
    "\"#6ca24d\",\n",
    "\"#b84c7d\",\n",
    "\"#46c19a\",\n",
    "\"#b8533c\",\n",
    "\"#bc9b3c\"]\n",
    "\n",
    "sns.set_theme()\n",
    "sns.set_style(\"ticks\")\n",
    "sns.set_palette(colors)\n",
    "\n",
    "\n",
    "ax1 = sns.barplot(ax= axes[0],data=TI, x=np.append(TI[P5_b].value_counts(normalize=True).values*100,[0,0]),\n",
    "                  y=np.append(TI[P5_b].value_counts(normalize=True).index,[ \"Business Intelligence/BI\",\n",
    "              \"Business Analyst\"]),\n",
    "                   order=labels_P5_b)\n",
    "\n",
    "ax1.tick_params(axis='x',labelrotation=0)\n",
    "ax1.set_xlim(0, 100)\n",
    "ax1.set(xlabel=None,ylabel=None)\n",
    "ax1.set_title(\"Formação em TI\",fontdict={'fontsize': 20})\n",
    "vals = ax1.get_xticks()\n",
    "ax1.set_xticklabels([str(int(val))+'%' for val in vals])\n",
    "ax1.set_yticklabels([textwrap.fill(e, 20) for e in labels_P5_b])\n",
    "\n",
    "\n",
    "\n",
    "ax2 = sns.barplot(ax= axes[1],data=resto, x=np.append(resto[P5_b].value_counts(normalize=True).values*100,[0]),\n",
    "                  y=np.append(resto[P5_b].value_counts(normalize=True).index,[\"Arquitetura de dados/Data Architecture\"]),\n",
    "                   order=labels_P5_b)\n",
    "\n",
    "ax2.tick_params(axis='x',labelrotation=0)\n",
    "ax2.set_xlim(0, 100)\n",
    "ax2.set(xlabel=None, ylabel=None)\n",
    "ax2.set_title(\"Outras Áreas\",fontdict={'fontsize': 20})\n",
    "ax2.tick_params(labelleft=False, left=False)\n",
    "\n",
    "\n",
    "\n",
    "for c in ax1.containers:\n",
    "    ax1.bar_label(c, fmt=f'%.2f', label_type='edge')\n",
    "\n",
    "for c in ax2.containers:\n",
    "    ax2.bar_label(c, fmt=f'%.2f', label_type='edge') \n",
    "\n",
    "    \n",
    "ax1.text(right, top, 'Qual oportunidade você está buscando?',\n",
    "        horizontalalignment='center',\n",
    "        verticalalignment='center',\n",
    "        transform=ax1.transAxes,\n",
    "        fontdict={'fontsize': 24})\n",
    "\n",
    "sns.despine()\n",
    "ax2.spines['left'].set_visible(False)\n",
    "ax1.spines['left'].set_visible(False)\n",
    "plt.show()"
   ]
  },
  {
   "cell_type": "markdown",
   "id": "9b7333be",
   "metadata": {},
   "source": [
    "Fiz uma simples pesquisa por vagas no linkedin, no dia 09/07/2022 usando as palavras:\n",
    "* Data Scientist(DS),\n",
    "* Data Engineer(DE),\n",
    "* Data Analyst(DA).\n",
    "com o filtro de mundial(M) e\n",
    "* Cientista de dados\n",
    "* Engenheiro de dados,\n",
    "* Analista de dados\n",
    "com o filtro de Brasil(BR) e obtive os seguintes resultados:\n",
    "1. DS - 966.252 M, 15.229 BR\n",
    "2. DE - 436.527 M, 2.033 BR\n",
    "3. DA - 1.063.080 M, 16.336 BR\n",
    "Embora apenas olhando a primeira página de resultados se observei que os resultados entre as pesquisas tinham sobreposição.\n",
    "Ao olharmos o gráfico acima vemos que o que as pessoas buscam não está alinhado com o que mercado oferece, em particular com as vagas de DS."
   ]
  },
  {
   "cell_type": "markdown",
   "id": "20273a95",
   "metadata": {},
   "source": [
    "O que se observa é que DS é igualmente o cargo mais desejado, e quem é formado em TI tem um viés maior para DE enquanto que quem vem de outras áreas tem um viés maior por DA.\n",
    "Quem é de TI não tem interesse por BI, e quem vem de outras áreas não tem interesse por arquitetura de dados."
   ]
  },
  {
   "cell_type": "markdown",
   "id": "c13c3f54",
   "metadata": {},
   "source": [
    "## Segmentação"
   ]
  },
  {
   "cell_type": "markdown",
   "id": "6f5df2c8",
   "metadata": {},
   "source": [
    "### Idade"
   ]
  },
  {
   "cell_type": "code",
   "execution_count": null,
   "id": "a4db1b68",
   "metadata": {},
   "outputs": [],
   "source": [
    "#\"('P1_a_a ', 'Faixa idade')\"\n",
    "TI[P1_a_a].value_counts()"
   ]
  },
  {
   "cell_type": "code",
   "execution_count": null,
   "id": "b2c0d844",
   "metadata": {},
   "outputs": [],
   "source": [
    "TI[P1_a_a].value_counts().sum()"
   ]
  },
  {
   "cell_type": "code",
   "execution_count": null,
   "id": "bb80cb2c",
   "metadata": {},
   "outputs": [],
   "source": [
    "resto[P1_a_a].value_counts()"
   ]
  },
  {
   "cell_type": "code",
   "execution_count": null,
   "id": "cb4c7cd0",
   "metadata": {},
   "outputs": [],
   "source": [
    "resto[P1_a_a].value_counts().sum()"
   ]
  },
  {
   "cell_type": "code",
   "execution_count": null,
   "id": "3cbf31b0",
   "metadata": {},
   "outputs": [],
   "source": [
    "labels_P1_a_a = [\"17-21\",\n",
    "                 \"22-24\",\n",
    "                 \"25-29\",\n",
    "                 \"30-34\",\n",
    "                 \"35-39\",\n",
    "                 \"40-44\",\n",
    "                 \"45-49\",\n",
    "                 \"50-54\",\n",
    "                 \"55+\"\n",
    "                ]"
   ]
  },
  {
   "cell_type": "code",
   "execution_count": null,
   "id": "d3c9f5ee",
   "metadata": {},
   "outputs": [],
   "source": [
    "fig, axes = plt.subplots(1, 2, sharex=True, figsize=(16,8))\n",
    "\n",
    "top = 1.15\n",
    "bottom = -0.25\n",
    "right = 1.1\n",
    "\n",
    "\n",
    "\n",
    "colors = [\"#ba496b\",\n",
    "          \"#46c19a\",\n",
    "          \"#9750a1\",\n",
    "          \"#9ab440\",\n",
    "          \"#6777cf\",\n",
    "          \"#cd9337\",\n",
    "          \"#5aa554\",\n",
    "          \"#ba5738\",\n",
    "          \"#968a3d\"]\n",
    "\n",
    "\n",
    "sns.set_palette(colors)\n",
    "sns.set_style(\"ticks\")\n",
    "\n",
    "\n",
    "\n",
    "ax1 = sns.barplot(ax= axes[0],\n",
    "                  x=(TI[P1_a_a].value_counts(normalize=True).values)*100, \n",
    "                    y=TI[P1_a_a].value_counts(normalize=True).index,\n",
    "                 order=labels_P1_a_a)\n",
    "                  \n",
    "ax1.tick_params(axis='x',labelrotation=0)\n",
    "ax1.set_xlim(0, 100)\n",
    "ax1.set(xlabel=None,ylabel=None)\n",
    "ax1.set_title(\"Formação em TI\",fontdict={'fontsize': 20})\n",
    "vals = ax1.get_xticks()\n",
    "ax1.set_xticklabels([str(int(val))+'%' for val in vals])\n",
    "\n",
    "\n",
    "\n",
    "ax2 = sns.barplot(ax= axes[1], x=(resto[P1_a_a].value_counts(normalize=True).values)*100,\n",
    "                  y=resto[P1_a_a].value_counts(normalize=True).index,\n",
    "                  order=labels_P1_a_a)\n",
    "\n",
    "ax2.tick_params(axis='x',labelrotation=0)\n",
    "ax2.set_xlim(0, 100)\n",
    "ax2.set(xlabel=None, ylabel=None)\n",
    "ax2.set_title(\"Outras Áreas\",fontdict={'fontsize': 20})\n",
    "ax2.tick_params(labelleft=False, left=False)\n",
    "\n",
    "\n",
    "\n",
    "for c in ax1.containers:\n",
    "    ax1.bar_label(c, fmt=f'%.2f', label_type='edge')\n",
    "\n",
    "for c in ax2.containers:\n",
    "    ax2.bar_label(c, fmt=f'%.2f', label_type='edge')  \n",
    "\n",
    "    \n",
    "ax1.text(right, top, 'Idade',\n",
    "        horizontalalignment='center',\n",
    "        verticalalignment='center',\n",
    "        transform=ax1.transAxes,\n",
    "        fontdict={'fontsize': 24})    \n",
    "    \n",
    "\n",
    "sns.set_palette(sns.color_palette(colors))\n",
    "sns.despine()\n",
    "ax2.spines['left'].set_visible(False)\n",
    "ax1.spines['left'].set_visible(False)\n",
    "plt.show()"
   ]
  },
  {
   "cell_type": "markdown",
   "id": "de5d8b66",
   "metadata": {},
   "source": [
    "### Gênero"
   ]
  },
  {
   "cell_type": "code",
   "execution_count": null,
   "id": "9b39f541",
   "metadata": {},
   "outputs": [],
   "source": [
    "#\"('P1_b ', 'Genero')\"\n",
    "TI[P1_b].value_counts()"
   ]
  },
  {
   "cell_type": "code",
   "execution_count": null,
   "id": "e9fb0c7a",
   "metadata": {},
   "outputs": [],
   "source": [
    "TI[P1_b].value_counts().sum()"
   ]
  },
  {
   "cell_type": "code",
   "execution_count": null,
   "id": "b3a90619",
   "metadata": {},
   "outputs": [],
   "source": [
    "resto[P1_b].value_counts()"
   ]
  },
  {
   "cell_type": "code",
   "execution_count": null,
   "id": "572d4c93",
   "metadata": {},
   "outputs": [],
   "source": [
    "resto[P1_b].value_counts().sum()"
   ]
  },
  {
   "cell_type": "code",
   "execution_count": null,
   "id": "e3664d3a",
   "metadata": {},
   "outputs": [],
   "source": [
    "TI[P1_b].value_counts(normalize=True)"
   ]
  },
  {
   "cell_type": "code",
   "execution_count": null,
   "id": "02f067ff",
   "metadata": {},
   "outputs": [],
   "source": [
    "resto[P1_b].value_counts(normalize=True)"
   ]
  },
  {
   "cell_type": "code",
   "execution_count": null,
   "id": "16bea069",
   "metadata": {},
   "outputs": [],
   "source": [
    "fig, axes = plt.subplots(1, 2, sharex=True, figsize=(16,8))\n",
    "\n",
    "top = 1.15\n",
    "bottom = -0.25\n",
    "right = 1.1\n",
    "\n",
    "\n",
    "\n",
    "colors = [\"#bc5d41\",\n",
    "          \"#84a955\",\n",
    "          \"#965da7\"]\n",
    "\n",
    "\n",
    "sns.set_palette(colors)\n",
    "sns.set_style(\"ticks\")\n",
    "\n",
    "\n",
    "\n",
    "ax1 = sns.barplot(ax= axes[0],\n",
    "                  x=(TI[P1_b].value_counts(normalize=True).values)*100, \n",
    "                    y=TI[P1_b].value_counts(normalize=True).index,)\n",
    "                  \n",
    "ax1.tick_params(axis='x',labelrotation=0)\n",
    "ax1.set_xlim(0, 100)\n",
    "ax1.set(xlabel=None,ylabel=None)\n",
    "ax1.set_title(\"Formação em TI\",fontdict={'fontsize': 20})\n",
    "vals = ax1.get_xticks()\n",
    "ax1.set_xticklabels([str(int(val))+'%' for val in vals])\n",
    "\n",
    "\n",
    "\n",
    "ax2 = sns.barplot(ax= axes[1], x=(resto[P1_b].value_counts(normalize=True).values)*100,\n",
    "                  y=resto[P1_b].value_counts(normalize=True).index,\n",
    "                  )\n",
    "\n",
    "ax2.tick_params(axis='x',labelrotation=0)\n",
    "ax2.set_xlim(0, 100)\n",
    "ax2.set(xlabel=None, ylabel=None)\n",
    "ax2.set_title(\"Outras Áreas\",fontdict={'fontsize': 20})\n",
    "ax2.tick_params(labelleft=False, left=False)\n",
    "\n",
    "\n",
    "\n",
    "for c in ax1.containers:\n",
    "    ax1.bar_label(c, fmt=f'%.2f', label_type='edge')\n",
    "\n",
    "for c in ax2.containers:\n",
    "    ax2.bar_label(c, fmt=f'%.2f', label_type='edge')  \n",
    "\n",
    "    \n",
    "ax1.text(right, top, 'Gênero',\n",
    "        horizontalalignment='center',\n",
    "        verticalalignment='center',\n",
    "        transform=ax1.transAxes,\n",
    "        fontdict={'fontsize': 24})    \n",
    "    \n",
    "ax1.text(right, bottom, 'Se identificaram como outro apenas 2 e 4 pessoas em TI e outras áreas respetivamente.',\n",
    "         horizontalalignment='right',\n",
    "         verticalalignment='center',\n",
    "         transform=ax1.transAxes,\n",
    "        fontdict={'fontsize': 12})\n",
    "\n",
    "sns.set_palette(sns.color_palette(colors))\n",
    "sns.despine()\n",
    "ax2.spines['left'].set_visible(False)\n",
    "ax1.spines['left'].set_visible(False)\n",
    "plt.show()"
   ]
  },
  {
   "cell_type": "markdown",
   "id": "06f9f32f",
   "metadata": {},
   "source": [
    "Mais mulheres em  outras áreas."
   ]
  },
  {
   "cell_type": "markdown",
   "id": "b288bb2f",
   "metadata": {},
   "source": [
    "### Região de Origem"
   ]
  },
  {
   "cell_type": "code",
   "execution_count": null,
   "id": "7880654b",
   "metadata": {},
   "outputs": [],
   "source": [
    "TI[P1_g_b].value_counts()"
   ]
  },
  {
   "cell_type": "code",
   "execution_count": null,
   "id": "3a75363c",
   "metadata": {},
   "outputs": [],
   "source": [
    "TI[P1_g_b].value_counts().sum()"
   ]
  },
  {
   "cell_type": "code",
   "execution_count": null,
   "id": "374b3557",
   "metadata": {},
   "outputs": [],
   "source": [
    "resto[P1_g_b].value_counts()"
   ]
  },
  {
   "cell_type": "code",
   "execution_count": null,
   "id": "e0b2789a",
   "metadata": {},
   "outputs": [],
   "source": [
    "resto[P1_g_b].value_counts().sum()"
   ]
  },
  {
   "cell_type": "code",
   "execution_count": null,
   "id": "a4bdf276",
   "metadata": {},
   "outputs": [],
   "source": [
    "dados[P1_g_b].value_counts()"
   ]
  },
  {
   "cell_type": "code",
   "execution_count": null,
   "id": "2db178a0",
   "metadata": {},
   "outputs": [],
   "source": [
    "labels_P1_g_b = [\"Sudeste\",\n",
    "                 \"Nordeste\",\n",
    "                 \"Sul\",\n",
    "                 \"Centro-oeste\",\n",
    "                 \"Norte\"]"
   ]
  },
  {
   "cell_type": "code",
   "execution_count": null,
   "id": "ae6f20fd",
   "metadata": {},
   "outputs": [],
   "source": [
    "fig, axes = plt.subplots(1, 2, sharex=True, figsize=(16,8))\n",
    "\n",
    "top = 1.15\n",
    "right = 1.1\n",
    "\n",
    "\n",
    "colors= [\"#677ad1\",\n",
    "\"#6fac5d\",\n",
    "\"#9750a1\",\n",
    "\"#bc7d39\",\n",
    "\"#b94663\"]\n",
    "\n",
    "sns.set_theme()\n",
    "sns.set_style(\"ticks\")\n",
    "sns.set_palette(colors)\n",
    "\n",
    "\n",
    "\n",
    "ax1 = sns.barplot(ax= axes[0],data=TI, x=TI[P1_g_b].value_counts(normalize=True).values*100,\n",
    "                  y=TI[P1_g_b].value_counts(normalize=True).index,\n",
    "                   order=labels_P1_g_b)\n",
    "\n",
    "ax1.tick_params(axis='x',labelrotation=0)\n",
    "ax1.set_xlim(0, 50)\n",
    "ax1.set(xlabel=None,ylabel=None)\n",
    "ax1.set_title(\"Formação em TI\",fontdict={'fontsize': 20})\n",
    "\n",
    "vals = ax1.get_xticks()\n",
    "ax1.set_xticklabels([str(int(val))+'%' for val in vals])\n",
    "ax1.set_yticklabels([textwrap.fill(e, 20) for e in labels_P1_g_b ])\n",
    "\n",
    "\n",
    "\n",
    "ax2 = sns.barplot(ax= axes[1],data=resto, x=resto[P1_g_b].value_counts(normalize=True).values*100,\n",
    "                  y=resto[P1_g_b].value_counts(normalize=True).index,\n",
    "                   order=labels_P1_g_b)\n",
    "\n",
    "ax2.tick_params(axis='x',labelrotation=0)\n",
    "ax2.set_xlim(0, 50)\n",
    "ax2.set(xlabel=None, ylabel=None)\n",
    "ax2.set_title(\"Outras Áreas\",fontdict={'fontsize': 20})\n",
    "ax2.tick_params(labelleft=False, left=False)\n",
    "\n",
    "\n",
    "\n",
    "for c in ax1.containers:\n",
    "    ax1.bar_label(c, fmt=f'%.2f', label_type='edge')\n",
    "\n",
    "for c in ax2.containers:\n",
    "    ax2.bar_label(c, fmt=f'%.2f', label_type='edge') \n",
    "\n",
    "    \n",
    "ax1.text(right, top, 'Região de origem',\n",
    "        horizontalalignment='center',\n",
    "        verticalalignment='center',\n",
    "        transform=ax1.transAxes,\n",
    "        fontdict={'fontsize': 24})  \n",
    "\n",
    "sns.despine()\n",
    "ax2.spines['left'].set_visible(False)\n",
    "ax1.spines['left'].set_visible(False)\n",
    "plt.show()"
   ]
  },
  {
   "cell_type": "markdown",
   "id": "bad6e3a2",
   "metadata": {},
   "source": [
    "### Cargo Atual"
   ]
  },
  {
   "cell_type": "code",
   "execution_count": null,
   "id": "f22981f6",
   "metadata": {},
   "outputs": [],
   "source": [
    "#P2_f ', 'Cargo Atual')\"\n",
    "TI[P2_f].value_counts()"
   ]
  },
  {
   "cell_type": "code",
   "execution_count": null,
   "id": "e088d965",
   "metadata": {},
   "outputs": [],
   "source": [
    "TI[P2_f].value_counts().sum()"
   ]
  },
  {
   "cell_type": "code",
   "execution_count": null,
   "id": "1e119959",
   "metadata": {},
   "outputs": [],
   "source": [
    "resto[P2_f].value_counts()"
   ]
  },
  {
   "cell_type": "code",
   "execution_count": null,
   "id": "cb89a592",
   "metadata": {},
   "outputs": [],
   "source": [
    "resto[P2_f].value_counts().sum()"
   ]
  },
  {
   "cell_type": "code",
   "execution_count": null,
   "id": "c8815638",
   "metadata": {},
   "outputs": [],
   "source": [
    "labels_P2_f = ['Cientista de Dados/Data Scientist', 'Analista de Dados/Data Analyst',\n",
    "       'Analista de BI/BI Analyst/Analytics Engineer',\n",
    "       'Engenheiro de Dados/Data Engineer', 'Outro',\n",
    "       'Analista de Negócios/Business Analyst',\n",
    "       'Outras Engenharias (não inclui dev)', 'Estatístico',\n",
    "       'Engenheiro de Machine Learning/ML Engineer',\n",
    "       'Analista de Inteligência de Mercado/Market Intelligence',\n",
    "       'Desenvolvedor ou Engenheiro de Software', 'Analista Administrativo',\n",
    "       'Analista de Marketing', 'Professor', 'Suporte Técnico',\n",
    "       'Product Manager', 'Analista de Sistemas/Analista de TI', 'Técnico',\n",
    "       'DBA/Administrador de Banco de Dados', 'Arquiteto de Dados',\n",
    "       'Arquiteto de dados']"
   ]
  },
  {
   "cell_type": "code",
   "execution_count": null,
   "id": "1dfde539",
   "metadata": {},
   "outputs": [],
   "source": [
    "fig, axes = plt.subplots(1, 2, sharex=True, figsize=(16,18))\n",
    "\n",
    "top = 1.15\n",
    "right = 1.1\n",
    "\n",
    "\n",
    "colors= [\"#7a59a0\",\n",
    "\"#64b546\",\n",
    "\"#bb54c2\",\n",
    "\"#b3b036\",\n",
    "\"#6f66d7\",\n",
    "\"#d89234\",\n",
    "\"#6b89d2\",\n",
    "\"#d95a30\",\n",
    "\"#46aed7\",\n",
    "\"#ce3b4a\",\n",
    "\"#5abd7c\",\n",
    "\"#d8468c\",\n",
    "\"#497a3a\",\n",
    "\"#d189cb\",\n",
    "\"#4ab29c\",\n",
    "\"#9e476b\",\n",
    "\"#a8ac66\",\n",
    "\"#de7c83\",\n",
    "\"#806e28\",\n",
    "\"#a35331\",\n",
    "\"#d69566\"]\n",
    "\n",
    "sns.set_theme()\n",
    "sns.set_style(\"ticks\")\n",
    "sns.set_palette(colors)\n",
    "\n",
    "\n",
    "\n",
    "ax1 = sns.barplot(ax= axes[0],data=TI, x=TI[P2_f].value_counts(normalize=True).values*100,\n",
    "                  y=TI[P2_f].value_counts(normalize=True).index,\n",
    "                   order=labels_P2_f)\n",
    "\n",
    "ax1.tick_params(axis='x',labelrotation=0)\n",
    "ax1.set_xlim(0, 40)\n",
    "ax1.set(xlabel=None,ylabel=None)\n",
    "ax1.set_title(\"Formação em TI\",fontdict={'fontsize': 20})\n",
    "\n",
    "vals = ax1.get_xticks()\n",
    "ax1.set_xticklabels([str(int(val))+'%' for val in vals])\n",
    "ax1.set_yticklabels([textwrap.fill(e, 20) for e in labels_P2_f])\n",
    "\n",
    "\n",
    "\n",
    "ax2 = sns.barplot(ax= axes[1],data=resto, x=resto[P2_f].value_counts(normalize=True).values*100,\n",
    "                  y=resto[P2_f].value_counts(normalize=True).index,\n",
    "                   order=labels_P2_f)\n",
    "\n",
    "ax2.tick_params(axis='x',labelrotation=0)\n",
    "ax2.set_xlim(0, 40)\n",
    "ax2.set(xlabel=None, ylabel=None)\n",
    "ax2.set_title(\"Outras Áreas\",fontdict={'fontsize': 20})\n",
    "ax2.tick_params(labelleft=False, left=False)\n",
    "\n",
    "\n",
    "\n",
    "for c in ax1.containers:\n",
    "    ax1.bar_label(c, fmt=f'%.2f', label_type='edge')\n",
    "\n",
    "for c in ax2.containers:\n",
    "    ax2.bar_label(c, fmt=f'%.2f', label_type='edge') \n",
    "\n",
    "    \n",
    "ax1.text(right, top, 'Cargo Atual',\n",
    "        horizontalalignment='center',\n",
    "        verticalalignment='center',\n",
    "        transform=ax1.transAxes,\n",
    "        fontdict={'fontsize': 24})  \n",
    "\n",
    "sns.despine()\n",
    "ax2.spines['left'].set_visible(False)\n",
    "ax1.spines['left'].set_visible(False)\n",
    "plt.show()"
   ]
  },
  {
   "cell_type": "markdown",
   "id": "4645439e",
   "metadata": {},
   "source": [
    "Mais DS em não TI, Mais DE em TI. Arquitetura de dados não tratada"
   ]
  },
  {
   "cell_type": "markdown",
   "id": "08d44a90",
   "metadata": {},
   "source": [
    "### Nível de senioridade"
   ]
  },
  {
   "cell_type": "code",
   "execution_count": null,
   "id": "a8a54b1c",
   "metadata": {},
   "outputs": [],
   "source": [
    "#\"('P2_g ', 'Nivel')\"\n",
    "TI[P2_g].value_counts()"
   ]
  },
  {
   "cell_type": "code",
   "execution_count": null,
   "id": "15453e14",
   "metadata": {},
   "outputs": [],
   "source": [
    "TI[P2_g].value_counts().sum()"
   ]
  },
  {
   "cell_type": "code",
   "execution_count": null,
   "id": "885e0c33",
   "metadata": {},
   "outputs": [],
   "source": [
    "resto[P2_g].value_counts()"
   ]
  },
  {
   "cell_type": "code",
   "execution_count": null,
   "id": "2057a8f8",
   "metadata": {},
   "outputs": [],
   "source": [
    "resto[P2_g].value_counts().sum()"
   ]
  },
  {
   "cell_type": "code",
   "execution_count": null,
   "id": "d7413606",
   "metadata": {},
   "outputs": [],
   "source": [
    "labels_P2_g = [\"Sênior\",\n",
    "                 \"Pleno\",\n",
    "                 \"Júnior\"\n",
    "                ]"
   ]
  },
  {
   "cell_type": "code",
   "execution_count": null,
   "id": "dbe23819",
   "metadata": {},
   "outputs": [],
   "source": [
    "fig, axes = plt.subplots(1, 2, sharex=True, figsize=(16,8))\n",
    "\n",
    "top = 1.15\n",
    "right = 1.1\n",
    "\n",
    "\n",
    "colors = [\"#bc5d41\",\n",
    "          \"#84a955\",\n",
    "          \"#965da7\"]\n",
    "\n",
    "sns.set_theme()\n",
    "sns.set_style(\"ticks\")\n",
    "sns.set_palette(colors)\n",
    "\n",
    "\n",
    "\n",
    "ax1 = sns.barplot(ax= axes[0],data=TI, x=TI[P2_g].value_counts(normalize=True).values*100,\n",
    "                  y=TI[P2_g].value_counts(normalize=True).index,\n",
    "                   order=labels_P2_g)\n",
    "\n",
    "ax1.tick_params(axis='x',labelrotation=0)\n",
    "ax1.set_xlim(0, 50)\n",
    "ax1.set(xlabel=None,ylabel=None)\n",
    "ax1.set_title(\"Formação em TI\",fontdict={'fontsize': 20})\n",
    "\n",
    "vals = ax1.get_xticks()\n",
    "ax1.set_xticklabels([str(int(val))+'%' for val in vals])\n",
    "ax1.set_yticklabels([textwrap.fill(e, 20) for e in labels_P2_g])\n",
    "\n",
    "\n",
    "\n",
    "ax2 = sns.barplot(ax= axes[1],data=resto, x=resto[P2_g].value_counts(normalize=True).values*100,\n",
    "                  y=resto[P2_g].value_counts(normalize=True).index,\n",
    "                   order=labels_P2_g)\n",
    "\n",
    "ax2.tick_params(axis='x',labelrotation=0)\n",
    "ax2.set_xlim(0, 50)\n",
    "ax2.set(xlabel=None, ylabel=None)\n",
    "ax2.set_title(\"Outras Áreas\",fontdict={'fontsize': 20})\n",
    "ax2.tick_params(labelleft=False, left=False)\n",
    "\n",
    "\n",
    "\n",
    "for c in ax1.containers:\n",
    "    ax1.bar_label(c, fmt=f'%.2f', label_type='edge')\n",
    "\n",
    "for c in ax2.containers:\n",
    "    ax2.bar_label(c, fmt=f'%.2f', label_type='edge') \n",
    "\n",
    "    \n",
    "ax1.text(right, top, 'Nível de senioridade',\n",
    "        horizontalalignment='center',\n",
    "        verticalalignment='center',\n",
    "        transform=ax1.transAxes,\n",
    "        fontdict={'fontsize': 24})  \n",
    "\n",
    "sns.despine()\n",
    "ax2.spines['left'].set_visible(False)\n",
    "ax1.spines['left'].set_visible(False)\n",
    "plt.show()"
   ]
  },
  {
   "cell_type": "markdown",
   "id": "65a45849",
   "metadata": {},
   "source": [
    "Mais sêniores em TI."
   ]
  },
  {
   "cell_type": "markdown",
   "id": "dd49236a",
   "metadata": {},
   "source": [
    "### Faixa salarial"
   ]
  },
  {
   "cell_type": "code",
   "execution_count": null,
   "id": "0896727e",
   "metadata": {},
   "outputs": [],
   "source": [
    "#\"('P2_h ', 'Faixa salarial')\"\n",
    "TI[P2_h].value_counts()"
   ]
  },
  {
   "cell_type": "code",
   "execution_count": null,
   "id": "2929bcce",
   "metadata": {},
   "outputs": [],
   "source": [
    "TI[P2_h].value_counts().sum()"
   ]
  },
  {
   "cell_type": "code",
   "execution_count": null,
   "id": "025bb0e4",
   "metadata": {},
   "outputs": [],
   "source": [
    "resto[P2_h].value_counts()"
   ]
  },
  {
   "cell_type": "code",
   "execution_count": null,
   "id": "0fb11479",
   "metadata": {},
   "outputs": [],
   "source": [
    "resto[P2_h].value_counts().sum()"
   ]
  },
  {
   "cell_type": "code",
   "execution_count": null,
   "id": "247020a1",
   "metadata": {},
   "outputs": [],
   "source": [
    "labels_P2_h = [\"Acima de R$ 40.001/mês\",\n",
    "               \"de R$ 30.001/mês a R$ 40.000/mês\",\n",
    "               \"de R$ 25.001/mês a R$ 30.000/mês\",\n",
    "               \"de R$ 20.001/mês a R$ 25.000/mês\",\n",
    "               \"de R$ 16.001/mês a R$ 20.000/mês\",\n",
    "               \"de R$ 12.001/mês a R$ 16.000/mês\",\n",
    "               \"de R$ 8.001/mês a R$ 12.000/mês\",\n",
    "               \"de R$ 6.001/mês a R$ 8.000/mês\",\n",
    "               \"de R$ 4.001/mês a R$ 6.000/mês\",\n",
    "               \"de R$ 3.001/mês a R$ 4.000/mês\",\n",
    "               \"de R$ 2.001/mês a R$ 3000/mês\",\n",
    "               \"de R$ 1.001/mês a R$ 2.000/mês\",\n",
    "               \"Menos de R$ 1.000/mês\"\n",
    "              ]"
   ]
  },
  {
   "cell_type": "code",
   "execution_count": null,
   "id": "188f10cf",
   "metadata": {},
   "outputs": [],
   "source": [
    "fig, axes = plt.subplots(1, 2, sharex=True, figsize=(16,8))\n",
    "\n",
    "top = 1.15\n",
    "right = 1.1\n",
    "\n",
    "\n",
    "colors = [\"#a68e3f\",\n",
    "          \"#6971d7\",\n",
    "          \"#91b23e\",\n",
    "          \"#5c3686\",\n",
    "          \"#58c07b\",\n",
    "          \"#c26abb\",\n",
    "          \"#609542\",\n",
    "          \"#b94973\",\n",
    "          \"#43c8ac\",\n",
    "          \"#b94b45\",\n",
    "          \"#6d8dd7\",\n",
    "          \"#d19e34\",\n",
    "          \"#bf6433\"]\n",
    "\n",
    "sns.set_theme()\n",
    "sns.set_style(\"ticks\")\n",
    "sns.set_palette(colors)\n",
    "\n",
    "\n",
    "\n",
    "ax1 = sns.barplot(ax= axes[0],data=TI, x=TI[P2_h].value_counts(normalize=True).values*100,\n",
    "                  y=TI[P2_h].value_counts(normalize=True).index,\n",
    "                   order=labels_P2_h)\n",
    "\n",
    "ax1.tick_params(axis='x',labelrotation=0)\n",
    "ax1.set_xlim(0, 50)\n",
    "ax1.set(xlabel=None,ylabel=None)\n",
    "ax1.set_title(\"Formação em TI\",fontdict={'fontsize': 20})\n",
    "\n",
    "vals = ax1.get_xticks()\n",
    "ax1.set_xticklabels([str(int(val))+'%' for val in vals])\n",
    "ax1.set_yticklabels([textwrap.fill(e, 20) for e in labels_P2_h])\n",
    "\n",
    "\n",
    "\n",
    "ax2 = sns.barplot(ax= axes[1],data=resto, x=resto[P2_h].value_counts(normalize=True).values*100,\n",
    "                  y=resto[P2_h].value_counts(normalize=True).index,\n",
    "                   order=labels_P2_h)\n",
    "\n",
    "ax2.tick_params(axis='x',labelrotation=0)\n",
    "ax2.set_xlim(0, 50)\n",
    "ax2.set(xlabel=None, ylabel=None)\n",
    "ax2.set_title(\"Outras Áreas\",fontdict={'fontsize': 20})\n",
    "ax2.tick_params(labelleft=False, left=False)\n",
    "\n",
    "\n",
    "\n",
    "for c in ax1.containers:\n",
    "    ax1.bar_label(c, fmt=f'%.2f', label_type='edge')\n",
    "\n",
    "for c in ax2.containers:\n",
    "    ax2.bar_label(c, fmt=f'%.2f', label_type='edge') \n",
    "\n",
    "    \n",
    "ax1.text(right, top, 'Faixal salarial',\n",
    "        horizontalalignment='center',\n",
    "        verticalalignment='center',\n",
    "        transform=ax1.transAxes,\n",
    "        fontdict={'fontsize': 24})  \n",
    "\n",
    "sns.despine()\n",
    "ax2.spines['left'].set_visible(False)\n",
    "ax1.spines['left'].set_visible(False)\n",
    "plt.show()"
   ]
  },
  {
   "cell_type": "markdown",
   "id": "c06000ba",
   "metadata": {},
   "source": [
    "Tempo de experiência maior em TI, maior salário."
   ]
  },
  {
   "cell_type": "markdown",
   "id": "7226478d",
   "metadata": {},
   "source": [
    "# Conclusão"
   ]
  },
  {
   "cell_type": "markdown",
   "id": "98f883f7",
   "metadata": {},
   "source": [
    "zzzzzz"
   ]
  },
  {
   "cell_type": "code",
   "execution_count": null,
   "id": "9d9bfc36",
   "metadata": {},
   "outputs": [],
   "source": []
  }
 ],
 "metadata": {
  "kernelspec": {
   "display_name": "Python 3 (ipykernel)",
   "language": "python",
   "name": "python3"
  },
  "language_info": {
   "codemirror_mode": {
    "name": "ipython",
    "version": 3
   },
   "file_extension": ".py",
   "mimetype": "text/x-python",
   "name": "python",
   "nbconvert_exporter": "python",
   "pygments_lexer": "ipython3",
   "version": "3.8.10"
  }
 },
 "nbformat": 4,
 "nbformat_minor": 5
}
